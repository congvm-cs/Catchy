{
  "nbformat": 4,
  "nbformat_minor": 0,
  "metadata": {
    "colab": {
      "name": "FashionEmbedding.ipynb",
      "version": "0.3.2",
      "provenance": [],
      "collapsed_sections": []
    },
    "kernelspec": {
      "name": "python3",
      "display_name": "Python 3"
    },
    "accelerator": "GPU"
  },
  "cells": [
    {
      "cell_type": "markdown",
      "metadata": {
        "id": "view-in-github",
        "colab_type": "text"
      },
      "source": [
        "[View in Colaboratory](https://colab.research.google.com/github/vocong25/Catchy/blob/master/FashionEmbedding.ipynb)"
      ]
    },
    {
      "metadata": {
        "id": "B2ZEToVrmB1Q",
        "colab_type": "code",
        "colab": {
          "base_uri": "https://localhost:8080/",
          "height": 34
        },
        "outputId": "2ec98794-18cd-4106-d51b-d199e0decf38"
      },
      "cell_type": "code",
      "source": [
        "# https://drive.google.com/open?id=11xUCISuIpz07UMJSuMcivwMNLrpubTmX\n",
        "!ls"
      ],
      "execution_count": 2,
      "outputs": [
        {
          "output_type": "stream",
          "text": [
            "datalab\r\n"
          ],
          "name": "stdout"
        }
      ]
    },
    {
      "metadata": {
        "id": "tWjRK2OzT8C4",
        "colab_type": "code",
        "colab": {
          "base_uri": "https://localhost:8080/",
          "height": 34
        },
        "outputId": "b70b2dc2-dc41-45e1-9eb5-11671102f5aa"
      },
      "cell_type": "code",
      "source": [
        "!pip install -U -q PyDrive\n",
        "from pydrive.auth import GoogleAuth\n",
        "from pydrive.drive import GoogleDrive\n",
        "from google.colab import auth\n",
        "from oauth2client.client import GoogleCredentials\n",
        "import numpy as np\n",
        "%matplotlib inline\n",
        "from keras.models import load_model\n",
        "from keras.applications import vgg19, vgg16\n",
        "from keras.layers import Conv2D, MaxPooling2D, Dense, Dropout, AveragePooling2D \n",
        "from keras.layers import Flatten, BatchNormalization, Convolution2D, Input\n",
        "from keras.callbacks import ModelCheckpoint, TensorBoard\n",
        "from keras.optimizers import SGD\n",
        "from keras import Model\n",
        "import keras\n",
        "\n",
        "import matplotlib.pyplot as plt\n",
        "import os\n",
        "from sklearn.model_selection import train_test_split\n",
        "import cv2\n",
        "import pickle\n",
        "import matplotlib as mpl\n",
        "import glob\n",
        "mpl.rcParams['figure.figsize'] = (10, 10)"
      ],
      "execution_count": 1,
      "outputs": [
        {
          "output_type": "stream",
          "text": [
            "Using TensorFlow backend.\n"
          ],
          "name": "stderr"
        }
      ]
    },
    {
      "metadata": {
        "id": "G8rmbqzYmCiK",
        "colab_type": "code",
        "colab": {}
      },
      "cell_type": "code",
      "source": [
        "auth.authenticate_user()\n",
        "gauth = GoogleAuth()\n",
        "gauth.credentials = GoogleCredentials.get_application_default()\n",
        "drive = GoogleDrive(gauth)"
      ],
      "execution_count": 0,
      "outputs": []
    },
    {
      "metadata": {
        "id": "eaI6hIT3mSqW",
        "colab_type": "code",
        "colab": {}
      },
      "cell_type": "code",
      "source": [
        "downloaded = drive.CreateFile({'id': '11xUCISuIpz07UMJSuMcivwMNLrpubTmX'})"
      ],
      "execution_count": 0,
      "outputs": []
    },
    {
      "metadata": {
        "id": "xw7S6cnSmVLa",
        "colab_type": "code",
        "colab": {}
      },
      "cell_type": "code",
      "source": [
        "downloaded.GetContentFile('img.zip')"
      ],
      "execution_count": 0,
      "outputs": []
    },
    {
      "metadata": {
        "id": "NbXukFgamY9M",
        "colab_type": "code",
        "colab": {}
      },
      "cell_type": "code",
      "source": [
        "!unzip -P mmlab_DeepFashion_inshop img.zip"
      ],
      "execution_count": 0,
      "outputs": []
    },
    {
      "metadata": {
        "id": "X1i4kAPQVVYQ",
        "colab_type": "text"
      },
      "cell_type": "markdown",
      "source": [
        "# **This is for categorical data**"
      ]
    },
    {
      "metadata": {
        "id": "bGb80uMIEqJo",
        "colab_type": "code",
        "colab": {
          "base_uri": "https://localhost:8080/",
          "height": 69
        },
        "outputId": "64bc85f4-520b-4c6e-8fbf-75355355fbaf"
      },
      "cell_type": "code",
      "source": [
        "def categorize_labels(file_path):\n",
        "  NUM_LABELS = 18\n",
        "  STYLES = ['Denim', 'Jackets_Vests', 'Pants', 'Shirts_Polos', 'Shorts', \n",
        "            'Suiting', 'Sweaters', 'Sweatshirts_Hoodies', 'Tees_Tanks', \n",
        "            'Blouses_Shirts', 'Cardigans', 'Dresses','Graphic_Tees',\n",
        "            'Jackets_Coats', 'Leggings', 'Rompers_Jumpsuits','Skirts']\n",
        "  \n",
        "  \n",
        "  labels = np.zeros((1, NUM_LABELS))  # 0:     gender\n",
        "                                      # 1-18 : style\n",
        "\n",
        "  # file_path: /content/img/MEN/Denim/id_00002243/01_1_front.jpg \n",
        "  style = file_path.split('/')[-3]\n",
        "  gender = file_path.split('/')[-4]\n",
        "  \n",
        "  if gender == 'WOMEN':\n",
        "    labels[0, 0] = 1   # Female\n",
        "  else:\n",
        "    labels[0, 0] = 0   # Male\n",
        "\n",
        "  for idx, style_in_arr in enumerate(STYLES):\n",
        "    if style == style_in_arr:\n",
        "      labels[0, idx+1] = 1\n",
        "  labels = np.asarray(labels).reshape(-1)\n",
        "  return labels\n",
        "\n",
        "# Test\n",
        "print(categorize_labels('img/MEN/Denim/id_00000938/05_2_side.jpg'))\n",
        "print('-------------------------------------------------------------------')\n",
        "print(categorize_labels('img/WOMEN/Blouses_Shirts/id_00002452/02_7_additional.jpg'))"
      ],
      "execution_count": 0,
      "outputs": [
        {
          "output_type": "stream",
          "text": [
            "[0. 1. 0. 0. 0. 0. 0. 0. 0. 0. 0. 0. 0. 0. 0. 0. 0. 0.]\n",
            "-------------------------------------------------------------------\n",
            "[1. 0. 0. 0. 0. 0. 0. 0. 0. 0. 1. 0. 0. 0. 0. 0. 0. 0.]\n"
          ],
          "name": "stdout"
        }
      ]
    },
    {
      "metadata": {
        "id": "55d0QP14j8tA",
        "colab_type": "text"
      },
      "cell_type": "markdown",
      "source": [
        "# Analyze Dataset"
      ]
    },
    {
      "metadata": {
        "id": "4rjt-fxCjc-M",
        "colab_type": "code",
        "colab": {
          "base_uri": "https://localhost:8080/",
          "height": 34
        },
        "outputId": "8f2dec97-1c61-4387-ea5e-fbfa941b245c"
      },
      "cell_type": "code",
      "source": [
        "# Split Training and Testing data\n",
        "# file_path: /content/img/MEN/Denim/id_00002243/01_1_front.jpg \n",
        "image_paths = glob.glob('/content/img/*/*/*/*.jpg')\n",
        "print('Number of Images: {}'.format(len(image_paths)))"
      ],
      "execution_count": 0,
      "outputs": [
        {
          "output_type": "stream",
          "text": [
            "Number of Images: 52712\n"
          ],
          "name": "stdout"
        }
      ]
    },
    {
      "metadata": {
        "id": "BXErNRG0j_Bg",
        "colab_type": "code",
        "colab": {
          "base_uri": "https://localhost:8080/",
          "height": 592
        },
        "outputId": "3f4eeae7-a19c-415e-f7e2-db01f2bc647e"
      },
      "cell_type": "code",
      "source": [
        "def count_gender_factor(image_paths):\n",
        "  num_female_outfits = 0\n",
        "  num_male_outfits = 0\n",
        "\n",
        "  for image_path in image_paths:\n",
        "    gender = np.array(categorize_labels(image_path))[0]\n",
        "    if gender == 1:\n",
        "      num_female_outfits += 1\n",
        "    else:\n",
        "      num_male_outfits += 1\n",
        "\n",
        "  width = 1/2\n",
        "  plt.bar(range(2), [num_male_outfits, num_female_outfits], width)\n",
        "  plt.xticks(range(2), ['Male', 'Female'])\n",
        "  # for i, v in enumerate(y):\n",
        "  plt.text(0, num_male_outfits, str(num_male_outfits), color='red', fontweight='bold')\n",
        "  plt.text(1, num_female_outfits, str(num_female_outfits), color='red', fontweight='bold')\n",
        "  \n",
        "count_gender_factor(image_paths)"
      ],
      "execution_count": 0,
      "outputs": [
        {
          "output_type": "display_data",
          "data": {
            "image/png": "[encoded data removed]",
            "text/plain": [
              "<matplotlib.figure.Figure at 0x7fca9bf71198>"
            ]
          },
          "metadata": {
            "tags": []
          }
        }
      ]
    },
    {
      "metadata": {
        "id": "UaQ0pyORrHhI",
        "colab_type": "code",
        "colab": {
          "base_uri": "https://localhost:8080/",
          "height": 52
        },
        "outputId": "7940c6d9-8aec-4ee0-833c-8aed1addad47"
      },
      "cell_type": "code",
      "source": [
        "train_paths, test_paths = train_test_split(image_paths, random_state=0, test_size=0.02)\n",
        "print('Number of train_paths: {}'.format(len(train_paths)))\n",
        "print('Number of test_paths: {}'.format(len(test_paths)))"
      ],
      "execution_count": 0,
      "outputs": [
        {
          "output_type": "stream",
          "text": [
            "Number of train_paths: 51657\n",
            "Number of test_paths: 1055\n"
          ],
          "name": "stdout"
        }
      ]
    },
    {
      "metadata": {
        "id": "PjGe3eO7rq_C",
        "colab_type": "code",
        "colab": {
          "base_uri": "https://localhost:8080/",
          "height": 592
        },
        "outputId": "c8b787ad-16c5-4b1c-fb49-81fe4d14ea73"
      },
      "cell_type": "code",
      "source": [
        "count_gender_factor(train_paths)"
      ],
      "execution_count": 0,
      "outputs": [
        {
          "output_type": "display_data",
          "data": {
            "image/png": "[encoded data removed]",
            "text/plain": [
              "<matplotlib.figure.Figure at 0x7fca9950a240>"
            ]
          },
          "metadata": {
            "tags": []
          }
        }
      ]
    },
    {
      "metadata": {
        "id": "vSZ_IHTXrvLa",
        "colab_type": "code",
        "colab": {
          "base_uri": "https://localhost:8080/",
          "height": 592
        },
        "outputId": "d9b1e9b3-f2aa-4af6-f63e-998800230bd4"
      },
      "cell_type": "code",
      "source": [
        "count_gender_factor(test_paths)"
      ],
      "execution_count": 0,
      "outputs": [
        {
          "output_type": "display_data",
          "data": {
            "image/png": "[encoded data removed]",
            "text/plain": [
              "<matplotlib.figure.Figure at 0x7fca99530e48>"
            ]
          },
          "metadata": {
            "tags": []
          }
        }
      ]
    },
    {
      "metadata": {
        "id": "BfJfz1YOsBYo",
        "colab_type": "code",
        "colab": {}
      },
      "cell_type": "code",
      "source": [
        "def count_style_factor(image_paths):\n",
        "  STYLES = ['Denim', 'Jackets_Vests', 'Pants', 'Shirts_Polos', 'Shorts', \n",
        "            'Suiting', 'Sweaters', 'Sweatshirts_Hoodies', 'Tees_Tanks', \n",
        "            'Blouses_Shirts', 'Cardigans', 'Dresses','Graphic_Tees',\n",
        "            'Jackets_Coats', 'Leggings', 'Rompers_Jumpsuits','Skirts']\n",
        "  \n",
        "  count = np.zeros((len(STYLES), 1))  # 0:     gender\n",
        "                                      # 1-18 : style\n",
        "\n",
        "  # file_path: /content/img/MEN/Denim/id_00002243/01_1_front.jpg \n",
        "  for image_path in image_paths:\n",
        "    style = image_path.split('/')[-3]\n",
        "  #   gender = file_path.split('/')[-4]\n",
        "\n",
        "    for idx, style_in_arr in enumerate(STYLES):\n",
        "      if style == style_in_arr:\n",
        "        count[idx, 0] += 1\n",
        "\n",
        "  count_arr = np.asarray(count).reshape(-1)\n",
        "  print(count_arr)\n",
        "  width = 1/2\n",
        "  plt.barh(range(len(STYLES)), count_arr, width)\n",
        "  plt.yticks(range(len(STYLES)), STYLES)\n",
        "  \n",
        "  for i, v in enumerate(count_arr):\n",
        "    plt.text(v + 0.2*np.min(count_arr), i - width/4, str(v), color='red', fontweight='bold')\n",
        "#   plt.text(1, num_female_outfits, str(num_female_outfits), color='red', fontweight='bold')\n",
        "\n"
      ],
      "execution_count": 0,
      "outputs": []
    },
    {
      "metadata": {
        "id": "2HEvH1m2wZtQ",
        "colab_type": "code",
        "colab": {
          "base_uri": "https://localhost:8080/",
          "height": 627
        },
        "outputId": "684e73d8-2d89-416f-a367-7e7d10107054"
      },
      "cell_type": "code",
      "source": [
        "count_style_factor(image_paths)"
      ],
      "execution_count": 0,
      "outputs": [
        {
          "output_type": "stream",
          "text": [
            "[  804.   424.  2821.   722.  4476.    39.  3641.  1631. 14487.  7964.\n",
            "  1436.  6999.  1297.  1895.   335.  1696.  2045.]\n"
          ],
          "name": "stdout"
        },
        {
          "output_type": "display_data",
          "data": {
            "image/png": "[encoded data removed]",
            "text/plain": [
              "<matplotlib.figure.Figure at 0x7fca98b97dd8>"
            ]
          },
          "metadata": {
            "tags": []
          }
        }
      ]
    },
    {
      "metadata": {
        "id": "ZEv32nBGsBdK",
        "colab_type": "code",
        "colab": {
          "base_uri": "https://localhost:8080/",
          "height": 627
        },
        "outputId": "d925c538-c18a-4b2a-9d19-db77913d1336"
      },
      "cell_type": "code",
      "source": [
        "count_style_factor(train_paths)"
      ],
      "execution_count": 0,
      "outputs": [
        {
          "output_type": "stream",
          "text": [
            "[  789.   409.  2760.   705.  4380.    38.  3567.  1592. 14218.  7782.\n",
            "  1414.  6863.  1272.  1866.   329.  1665.  2008.]\n"
          ],
          "name": "stdout"
        },
        {
          "output_type": "display_data",
          "data": {
            "image/png": "[encoded data removed]",
            "text/plain": [
              "<matplotlib.figure.Figure at 0x7fca98b99c18>"
            ]
          },
          "metadata": {
            "tags": []
          }
        }
      ]
    },
    {
      "metadata": {
        "id": "sni0EjBowQwy",
        "colab_type": "code",
        "colab": {
          "base_uri": "https://localhost:8080/",
          "height": 627
        },
        "outputId": "6ecd23a0-8b2c-4155-da82-73630530aa7a"
      },
      "cell_type": "code",
      "source": [
        "count_style_factor(test_paths)"
      ],
      "execution_count": 0,
      "outputs": [
        {
          "output_type": "stream",
          "text": [
            "[ 15.  15.  61.  17.  96.   1.  74.  39. 269. 182.  22. 136.  25.  29.\n",
            "   6.  31.  37.]\n"
          ],
          "name": "stdout"
        },
        {
          "output_type": "display_data",
          "data": {
            "image/png": "[encoded data removed]",
            "text/plain": [
              "<matplotlib.figure.Figure at 0x7fca98abcb38>"
            ]
          },
          "metadata": {
            "tags": []
          }
        }
      ]
    },
    {
      "metadata": {
        "id": "OA2Glo-kWVVk",
        "colab_type": "text"
      },
      "cell_type": "markdown",
      "source": [
        "# Model\n",
        "## Transfer learning based on VGG16"
      ]
    },
    {
      "metadata": {
        "id": "Ubo-HgPBWnfS",
        "colab_type": "code",
        "colab": {}
      },
      "cell_type": "code",
      "source": [
        "# Config Model\n",
        "IMAGE_SIZE = 96\n",
        "IMAGE_DEPTH = 3\n",
        "IMAGE_SHAPE = [IMAGE_SIZE, IMAGE_SIZE, IMAGE_DEPTH]\n",
        "BINARY_GENDER_OUTPUTS = 1\n",
        "CATEGORICAL_STYLE_OUTPUTS = 17\n",
        "NUM_LABELS = 18"
      ],
      "execution_count": 0,
      "outputs": []
    },
    {
      "metadata": {
        "id": "3TpDOht5THbm",
        "colab_type": "code",
        "colab": {
          "base_uri": "https://localhost:8080/",
          "height": 1163
        },
        "outputId": "7da712bb-364d-4da4-c0eb-314260211c2e"
      },
      "cell_type": "code",
      "source": [
        "# Construct Model\n",
        "# Transfer learning using VGG16\n",
        "l_input = Input(IMAGE_SHAPE)\n",
        "vgg = vgg19.VGG19(include_top=False, input_tensor=l_input)\n",
        "x = Flatten()(vgg.output)\n",
        "x = Dropout(0.2)(x)\n",
        "x = Dense(4096, activation='relu')(x)\n",
        "x = Dropout(0.2)(x)\n",
        "l_output = Dense(4096, activation='relu')(x)\n",
        "# x = Dropout(0.2)(x)\n",
        "# l_output = Dense(128, activation='relu')(x)\n",
        "# l_output = Dropout(0.2)(x)\n",
        "\n",
        "gender_output = Dense(BINARY_GENDER_OUTPUTS, activation='sigmoid', name='gender_output')(l_output)\n",
        "style_output = Dense(CATEGORICAL_STYLE_OUTPUTS, activation='softmax', name='style_output')(l_output)\n",
        "\n",
        "model = Model(inputs=l_input, outputs=[gender_output, style_output])\n",
        "\n",
        "for layer in model.layers[:10]:\n",
        "  layer.trainable = False\n",
        "  \n",
        "print(model.summary())"
      ],
      "execution_count": 24,
      "outputs": [
        {
          "output_type": "stream",
          "text": [
            "__________________________________________________________________________________________________\n",
            "Layer (type)                    Output Shape         Param #     Connected to                     \n",
            "==================================================================================================\n",
            "input_2 (InputLayer)            (None, 96, 96, 3)    0                                            \n",
            "__________________________________________________________________________________________________\n",
            "block1_conv1 (Conv2D)           (None, 96, 96, 64)   1792        input_2[0][0]                    \n",
            "__________________________________________________________________________________________________\n",
            "block1_conv2 (Conv2D)           (None, 96, 96, 64)   36928       block1_conv1[0][0]               \n",
            "__________________________________________________________________________________________________\n",
            "block1_pool (MaxPooling2D)      (None, 48, 48, 64)   0           block1_conv2[0][0]               \n",
            "__________________________________________________________________________________________________\n",
            "block2_conv1 (Conv2D)           (None, 48, 48, 128)  73856       block1_pool[0][0]                \n",
            "__________________________________________________________________________________________________\n",
            "block2_conv2 (Conv2D)           (None, 48, 48, 128)  147584      block2_conv1[0][0]               \n",
            "__________________________________________________________________________________________________\n",
            "block2_pool (MaxPooling2D)      (None, 24, 24, 128)  0           block2_conv2[0][0]               \n",
            "__________________________________________________________________________________________________\n",
            "block3_conv1 (Conv2D)           (None, 24, 24, 256)  295168      block2_pool[0][0]                \n",
            "__________________________________________________________________________________________________\n",
            "block3_conv2 (Conv2D)           (None, 24, 24, 256)  590080      block3_conv1[0][0]               \n",
            "__________________________________________________________________________________________________\n",
            "block3_conv3 (Conv2D)           (None, 24, 24, 256)  590080      block3_conv2[0][0]               \n",
            "__________________________________________________________________________________________________\n",
            "block3_conv4 (Conv2D)           (None, 24, 24, 256)  590080      block3_conv3[0][0]               \n",
            "__________________________________________________________________________________________________\n",
            "block3_pool (MaxPooling2D)      (None, 12, 12, 256)  0           block3_conv4[0][0]               \n",
            "__________________________________________________________________________________________________\n",
            "block4_conv1 (Conv2D)           (None, 12, 12, 512)  1180160     block3_pool[0][0]                \n",
            "__________________________________________________________________________________________________\n",
            "block4_conv2 (Conv2D)           (None, 12, 12, 512)  2359808     block4_conv1[0][0]               \n",
            "__________________________________________________________________________________________________\n",
            "block4_conv3 (Conv2D)           (None, 12, 12, 512)  2359808     block4_conv2[0][0]               \n",
            "__________________________________________________________________________________________________\n",
            "block4_conv4 (Conv2D)           (None, 12, 12, 512)  2359808     block4_conv3[0][0]               \n",
            "__________________________________________________________________________________________________\n",
            "block4_pool (MaxPooling2D)      (None, 6, 6, 512)    0           block4_conv4[0][0]               \n",
            "__________________________________________________________________________________________________\n",
            "block5_conv1 (Conv2D)           (None, 6, 6, 512)    2359808     block4_pool[0][0]                \n",
            "__________________________________________________________________________________________________\n",
            "block5_conv2 (Conv2D)           (None, 6, 6, 512)    2359808     block5_conv1[0][0]               \n",
            "__________________________________________________________________________________________________\n",
            "block5_conv3 (Conv2D)           (None, 6, 6, 512)    2359808     block5_conv2[0][0]               \n",
            "__________________________________________________________________________________________________\n",
            "block5_conv4 (Conv2D)           (None, 6, 6, 512)    2359808     block5_conv3[0][0]               \n",
            "__________________________________________________________________________________________________\n",
            "block5_pool (MaxPooling2D)      (None, 3, 3, 512)    0           block5_conv4[0][0]               \n",
            "__________________________________________________________________________________________________\n",
            "flatten_2 (Flatten)             (None, 4608)         0           block5_pool[0][0]                \n",
            "__________________________________________________________________________________________________\n",
            "dropout_3 (Dropout)             (None, 4608)         0           flatten_2[0][0]                  \n",
            "__________________________________________________________________________________________________\n",
            "dense_3 (Dense)                 (None, 4096)         18878464    dropout_3[0][0]                  \n",
            "__________________________________________________________________________________________________\n",
            "dropout_4 (Dropout)             (None, 4096)         0           dense_3[0][0]                    \n",
            "__________________________________________________________________________________________________\n",
            "dense_4 (Dense)                 (None, 4096)         16781312    dropout_4[0][0]                  \n",
            "__________________________________________________________________________________________________\n",
            "gender_output (Dense)           (None, 1)            4097        dense_4[0][0]                    \n",
            "__________________________________________________________________________________________________\n",
            "style_output (Dense)            (None, 17)           69649       dense_4[0][0]                    \n",
            "==================================================================================================\n",
            "Total params: 55,757,906\n",
            "Trainable params: 54,022,418\n",
            "Non-trainable params: 1,735,488\n",
            "__________________________________________________________________________________________________\n",
            "None\n"
          ],
          "name": "stdout"
        }
      ]
    },
    {
      "metadata": {
        "id": "ihhSpTIHTzn0",
        "colab_type": "code",
        "colab": {}
      },
      "cell_type": "code",
      "source": [
        "# Check point calllbacks\n",
        "# Loss on training phase\n",
        "if not os.path.isdir('Models_Fashion'):\n",
        "  os.mkdir('Models_Fashion')\n",
        "  \n",
        "loss_train_checkpoint_name = 'Models_Fashion/loss-train-weights-improvement-{loss:.4f}.hdf5'\n",
        "\n",
        "# Loss on val phase\n",
        "# common loss\n",
        "loss_val_check_point_name = 'Models_Fashion/loss-test-weights-improvement-{val_loss:.4f}.hdf5'\n",
        "\n",
        "# specific loss\n",
        "loss_val_gender_checkpoint_name = 'Models_Fashion/loss-val-gender-weights-improvement-{val_gender_output_loss:.4f}-{val_gender_output_acc:.4f}.hdf5'\n",
        "loss_val_style_checkpoint_name = 'Models_Fashion/loss-val-style-weights-improvement-{val_style_output_loss:.4f}-{val_style_output_acc:.4f}.hdf5'\n",
        "\n",
        "#-------------------------------------------------------------------------------#\n",
        "loss_train_checkpoint = ModelCheckpoint(filepath=loss_train_checkpoint_name, \n",
        "                                    monitor='loss', \n",
        "                                    verbose=1, \n",
        "                                    save_best_only=True)\n",
        "\n",
        "loss_val_check_point = ModelCheckpoint(filepath=loss_val_check_point_name, \n",
        "                                    monitor='val_loss', \n",
        "                                    verbose=1, \n",
        "                                    save_best_only=True)\n",
        "\n",
        "loss_val_gender_checkpoint = ModelCheckpoint(filepath=loss_val_gender_checkpoint_name, \n",
        "                                    monitor='val_gender_output_loss', \n",
        "                                    verbose=1, \n",
        "                                    save_best_only=True)\n",
        "\n",
        "loss_val_style_checkpoint = ModelCheckpoint(filepath=loss_val_style_checkpoint_name, \n",
        "                                    monitor='val_style_output_loss', \n",
        "                                    verbose=1, \n",
        "                                    save_best_only=True)\n",
        "\n",
        "callback_list = [loss_train_checkpoint, loss_val_check_point, loss_val_gender_checkpoint, loss_val_style_checkpoint]"
      ],
      "execution_count": 0,
      "outputs": []
    },
    {
      "metadata": {
        "id": "IPooDI3kUkTM",
        "colab_type": "code",
        "colab": {}
      },
      "cell_type": "code",
      "source": [
        "# Compile\n",
        "model.compile(optimizer='Adam', \n",
        "            loss={'gender_output': 'binary_crossentropy', \n",
        "                  'style_output': 'categorical_crossentropy'}, \n",
        "            metrics=['accuracy'],\n",
        "            loss_weights={'gender_output': 1.0, \n",
        "                          'style_output': 0})"
      ],
      "execution_count": 0,
      "outputs": []
    },
    {
      "metadata": {
        "id": "uEsXs7eacDQU",
        "colab_type": "code",
        "colab": {}
      },
      "cell_type": "code",
      "source": [
        "# Train plot\n",
        "history = {\n",
        "    'loss': [],\n",
        "    'style_output_loss': [],\n",
        "    'gender_output_loss': [],\n",
        "    'gender_output_acc':[],\n",
        "    'style_output_acc': [],\n",
        "    'val_loss': [],\n",
        "    'val_gender_output_loss': [],\n",
        "    'val_style_output_loss': [],\n",
        "    'val_gender_output_acc': [],\n",
        "    'val_style_output_acc': []\n",
        "}"
      ],
      "execution_count": 0,
      "outputs": []
    },
    {
      "metadata": {
        "id": "ovgEbpbnDEyc",
        "colab_type": "code",
        "colab": {}
      },
      "cell_type": "code",
      "source": [
        "# Preprocessing Images\n",
        "class DeepFashionDataset():\n",
        "  def __remove_whitespace__(self, arr):\n",
        "          result = []\n",
        "          for item in arr:\n",
        "              if item != '':\n",
        "                  result.append(item)\n",
        "\n",
        "          return result\n",
        "\n",
        "\n",
        "  def __load_anotation_file__(self, anotation_dir):\n",
        "      file_path = []\n",
        "      coordinations = []\n",
        "      with open(anotation_dir, 'r') as file:\n",
        "          lines = file.readlines()\n",
        "\n",
        "          for line in lines[2::]:\n",
        "              txt_arr = line.split(' ')\n",
        "              result = self.__remove_whitespace__(txt_arr)\n",
        "              file_path.append(result[0])\n",
        "              coordinations.append([result[1], result[2], result[3], result[4]])\n",
        "\n",
        "      return file_path, coordinations\n",
        "\n",
        "\n",
        "  def __aligned_crop__(self, img, coordinations):\n",
        "      x1 = int(coordinations[0])\n",
        "      y1 = int(coordinations[1])\n",
        "      x2 = int(coordinations[2])\n",
        "      y2 = int(coordinations[3])\n",
        "\n",
        "      width = np.abs(x2 - x1)\n",
        "      height = np.abs(y2 - y1)\n",
        "\n",
        "      if width < height:\n",
        "          print('__aligned_crop__: {}'.format(1))\n",
        "          center = (x2 + x1)/2\n",
        "          print('center :', center)\n",
        "          offset = height/2\n",
        "          print('offset :', offset)\n",
        "\n",
        "          x1 = int(center - offset) if int(center - offset) >= 0 else 0\n",
        "          x2 = int(center + offset)\n",
        "\n",
        "\n",
        "          cv2.circle(img, (int(center), y1), 2, (0, 255, 255), 2)\n",
        "\n",
        "      elif width > height:\n",
        "          print('__aligned_crop__: {}'.format(2))\n",
        "          center = (y2 + y1)/2\n",
        "          offset = width/2\n",
        "          y1 = int(center - offset) if int(center - offset) >= 0 else 0 \n",
        "          y2 = int(center + offset)\n",
        "\n",
        "      print(x1)\n",
        "      print(y1)\n",
        "      print(x2)\n",
        "      print(y2)\n",
        "\n",
        "      return img[y1:y2, x1:x2, :]\n",
        "\n",
        "\n",
        "  def load_images_with_notations(self, data_dir, anotation_dir, save_image=False, saved_file_path=None):\n",
        "      file_path, coordinations = self.__load_anotation_file__(anotation_dir)\n",
        "\n",
        "\n",
        "      for file_name, coord in zip(file_path, coordinations):\n",
        "          print(coord)\n",
        "          image_path = os.path.join(data_dir, file_name)\n",
        "          original_img = cv2.imread(image_path)\n",
        "\n",
        "          print('image_path: {}'.format(image_path))\n",
        "          x1 = int(coord[0])\n",
        "          y1 = int(coord[1])\n",
        "          x2 = int(coord[2])\n",
        "          y2 = int(coord[3])\n",
        "#           cv2.rectangle(original_img, (x1, y1), (x2, y2), (0, 255, 0), 2)\n",
        "          cropped_img  = self.__aligned_crop__(original_img, coord) \n",
        "\n",
        "      return cropped_img"
      ],
      "execution_count": 0,
      "outputs": []
    },
    {
      "metadata": {
        "id": "TBzXE1hVDhJi",
        "colab_type": "text"
      },
      "cell_type": "markdown",
      "source": [
        "# Training"
      ]
    },
    {
      "metadata": {
        "id": "xoh05S9HcRXe",
        "colab_type": "code",
        "colab": {}
      },
      "cell_type": "code",
      "source": [
        "class DataGenerator(keras.utils.Sequence):\n",
        "  'Generates data for Keras'\n",
        "\n",
        "  def __init__(self, list_IDs, labels=None, batch_size=32, dim=(32, 32), n_channels=1,\n",
        "               n_classes=10, shuffle=True, training=False):\n",
        "    \n",
        "    'Initialization'\n",
        "    self.dim = dim                     \n",
        "    self.batch_size = batch_size\n",
        "    self.labels = labels\n",
        "    self.list_IDs = list_IDs\n",
        "    self.n_channels = n_channels\n",
        "    self.n_classes = n_classes\n",
        "    self.shuffle = shuffle\n",
        "    self.__on_epoch_end()\n",
        "    self.training = training\n",
        "\n",
        "\n",
        "  def __len__(self):\n",
        "    'Denotes the number of batches per epoch'\n",
        "    return int(np.floor(len(self.list_IDs) / self.batch_size))\n",
        "\n",
        "\n",
        "  def __getitem__(self, index):\n",
        "    'Generate one batch of data'\n",
        "    # Generate indexes of the batch\n",
        "    indexes = self.indexes[index*self.batch_size:(index+1)*self.batch_size]\n",
        "\n",
        "    # Find list of IDs\n",
        "    list_IDs_temp = [self.list_IDs[k] for k in indexes]\n",
        "\n",
        "    # Generate data\n",
        "    X, y = self.__data_generation(list_IDs_temp)\n",
        "    return X, y\n",
        "\n",
        "\n",
        "  def __on_epoch_end(self):\n",
        "    'Updates indexes after each epoch'\n",
        "    self.indexes = np.arange(len(self.list_IDs))\n",
        "    if self.shuffle == True:\n",
        "        np.random.shuffle(self.indexes)\n",
        "        \n",
        "        \n",
        "  def __read_image(self, path):\n",
        "    img = keras.preprocessing.image.load_img(path)\n",
        "    img = keras.preprocessing.image.img_to_array(img)\n",
        "    \n",
        "    img = cv2.resize(img, (IMAGE_SIZE, IMAGE_SIZE))\n",
        "    \n",
        "    if self.training == True:\n",
        "      img = self.__augment_data(img)\n",
        "      \n",
        "    img = img/255.0\n",
        "    img = self.__prewhiten(img)\n",
        "    return img\n",
        "\n",
        "  \n",
        "  def __read_label(self, path):\n",
        "    label = path.split('/')[-2]\n",
        "    return label\n",
        "  \n",
        "  \n",
        "  def __prewhiten(self, x):\n",
        "    mean = np.mean(x)\n",
        "    std = np.std(x)\n",
        "    std_adj = np.maximum(std, 1.0/np.sqrt(x.size))\n",
        "    y = np.multiply(np.subtract(x, mean), 1/std_adj)\n",
        "    return y \n",
        "  \n",
        "  \n",
        "  def __categorize_labels(self, file_path):\n",
        "    NUM_LABELS = 18\n",
        "    STYLES = ['Denim', 'Jackets_Vests', 'Pants', 'Shirts_Polos', 'Shorts', \n",
        "              'Suiting', 'Sweaters', 'Sweatshirts_Hoodies', 'Tees_Tanks', \n",
        "              'Blouses_Shirts', 'Cardigans', 'Dresses','Graphic_Tees',\n",
        "              'Jackets_Coats', 'Leggings', 'Rompers_Jumpsuits','Skirts']\n",
        "\n",
        "\n",
        "    labels = np.zeros((1, NUM_LABELS))  # 0:     gender\n",
        "                                        # 1-18 : style\n",
        "\n",
        "    # file_path: /content/img/MEN/Denim/id_00002243/01_1_front.jpg \n",
        "    style = file_path.split('/')[-3]\n",
        "    gender = file_path.split('/')[-4]\n",
        "\n",
        "    if gender == 'WOMEN':\n",
        "      labels[0, 0] = 1   # Female\n",
        "    else:\n",
        "      labels[0, 0] = 0   # Male\n",
        "\n",
        "    for idx, style_in_arr in enumerate(STYLES):\n",
        "      if style == style_in_arr:\n",
        "        labels[0, idx+1] = 1\n",
        "    labels = np.asarray(labels).reshape(-1)\n",
        "    return labels\n",
        "  \n",
        "\n",
        "  def __augment_data(self, image):\n",
        "    \"\"\"\n",
        "    if np.random.random() > 0.5:\n",
        "        images[i] = random_crop(images[i],4)\n",
        "    \"\"\"\n",
        "    if np.random.random() > 0.75:\n",
        "        image = tf.contrib.keras.preprocessing.image.random_rotation(image, 20, row_axis=0, col_axis=1, channel_axis=2)\n",
        "    if np.random.random() > 0.75:\n",
        "        image = tf.contrib.keras.preprocessing.image.random_shear(image, 0.2, row_axis=0, col_axis=1, channel_axis=2)\n",
        "    if np.random.random() > 0.75:\n",
        "        image = tf.contrib.keras.preprocessing.image.random_shift(image, 0.2, 0.2, row_axis=0, col_axis=1, channel_axis=2)\n",
        "    if np.random.random() > 0.75:\n",
        "        image = tf.contrib.keras.preprocessing.image.random_zoom(image, [0.8, 1.2], row_axis=0, col_axis=1, channel_axis=2)\n",
        "    if np.random.random() > 0.5:\n",
        "        image = tf.contrib.keras.preprocessing.image.flip_axis(image, axis=1)\n",
        "    return image\n",
        "\n",
        "\n",
        "  def __data_generation(self, list_IDs_temp):\n",
        "    'Generates data containing batch_size samples' # X : (n_samples, *dim, n_channels)\n",
        "    # Initialization\n",
        "    X = np.empty((self.batch_size, *self.dim, self.n_channels))\n",
        "    y = np.empty((self.batch_size, self.n_classes), dtype=int)\n",
        "  \n",
        "#     print(X.shape)\n",
        "#     print(y.shape)\n",
        "    \n",
        "    # Generate data\n",
        "    for i, ID in enumerate(list_IDs_temp):\n",
        "        # Store sample\n",
        "        X[i,] = self.__read_image(ID)\n",
        "\n",
        "        # Store class\n",
        "        y[i] = self.__categorize_labels(ID)\n",
        "\n",
        "    return X, [y[:, 0], y[:, 1::]]\n",
        "\n",
        "    "
      ],
      "execution_count": 0,
      "outputs": []
    },
    {
      "metadata": {
        "id": "T5TCg1P6WISM",
        "colab_type": "code",
        "colab": {
          "base_uri": "https://localhost:8080/",
          "height": 34
        },
        "outputId": "3e295a96-1907-48c3-b9ed-9cca6698ebb9"
      },
      "cell_type": "code",
      "source": [
        "# Split Training and Testing data\n",
        "# file_path: /content/img/MEN/Denim/id_00002243/01_1_front.jpg \n",
        "image_paths = glob.glob('/content/img/*/*/*/*.jpg')\n",
        "print('Number of Images: {}'.format(len(image_paths)))\n"
      ],
      "execution_count": 14,
      "outputs": [
        {
          "output_type": "stream",
          "text": [
            "Number of Images: 52712\n"
          ],
          "name": "stdout"
        }
      ]
    },
    {
      "metadata": {
        "id": "JToEimAQWcfO",
        "colab_type": "code",
        "colab": {
          "base_uri": "https://localhost:8080/",
          "height": 52
        },
        "outputId": "e67fc812-8e0a-4ae9-8396-94e2c46be4e0"
      },
      "cell_type": "code",
      "source": [
        "train_paths, test_paths = train_test_split(image_paths, random_state=0, test_size=0.02)\n",
        "print('Number of train_paths: {}'.format(len(train_paths)))\n",
        "print('Number of test_paths: {}'.format(len(test_paths)))"
      ],
      "execution_count": 15,
      "outputs": [
        {
          "output_type": "stream",
          "text": [
            "Number of train_paths: 51657\n",
            "Number of test_paths: 1055\n"
          ],
          "name": "stdout"
        }
      ]
    },
    {
      "metadata": {
        "id": "kJ27NN8XUsQA",
        "colab_type": "code",
        "colab": {}
      },
      "cell_type": "code",
      "source": [
        "train_params = {'dim': (IMAGE_SIZE, IMAGE_SIZE),\n",
        "          'batch_size': 10,\n",
        "          'n_classes': NUM_LABELS,\n",
        "          'n_channels': IMAGE_DEPTH,\n",
        "          'shuffle': True,\n",
        "          'training': False}\n",
        "\n",
        "\n",
        "val_params = {'dim': (IMAGE_SIZE, IMAGE_SIZE),\n",
        "          'batch_size': 10,\n",
        "          'n_classes': NUM_LABELS,\n",
        "          'n_channels': IMAGE_DEPTH,\n",
        "          'shuffle': True,\n",
        "          'training': False}\n",
        "\n",
        "# Generators\n",
        "training_generator = DataGenerator(train_paths, **train_params)\n",
        "validation_generator = DataGenerator(test_paths, **val_params)"
      ],
      "execution_count": 0,
      "outputs": []
    },
    {
      "metadata": {
        "id": "zw5IGUk-jUtC",
        "colab_type": "code",
        "colab": {
          "base_uri": "https://localhost:8080/",
          "height": 4042
        },
        "outputId": "9c40c154-9ae6-45d4-9fe4-ca75b41d3765"
      },
      "cell_type": "code",
      "source": [
        "model.fit_generator(training_generator,\n",
        "                    verbose=1,\n",
        "                    epochs=50,\n",
        "                    validation_data=validation_generator,\n",
        "                    use_multiprocessing=True,\n",
        "                    workers=10, \n",
        "                    callbacks=callback_list)"
      ],
      "execution_count": 34,
      "outputs": [
        {
          "output_type": "stream",
          "text": [
            "Epoch 1/50\n",
            " 515/5165 [=>............................] - ETA: 13:06 - loss: 2.4115 - gender_output_loss: 2.4115 - style_output_loss: 11.7240 - gender_output_acc: 0.8487 - style_output_acc: 0.2726"
          ],
          "name": "stdout"
        },
        {
          "output_type": "stream",
          "text": [
            "1060/5165 [=====>........................] - ETA: 11:23 - loss: 2.3628 - gender_output_loss: 2.3628 - style_output_loss: 11.7206 - gender_output_acc: 0.8518 - style_output_acc: 0.2728"
          ],
          "name": "stdout"
        },
        {
          "output_type": "stream",
          "text": [
            "1605/5165 [========>.....................] - ETA: 9:50 - loss: 2.3760 - gender_output_loss: 2.3760 - style_output_loss: 11.7255 - gender_output_acc: 0.8510 - style_output_acc: 0.2725"
          ],
          "name": "stdout"
        },
        {
          "output_type": "stream",
          "text": [
            "2153/5165 [===========>..................] - ETA: 8:18 - loss: 2.3436 - gender_output_loss: 2.3436 - style_output_loss: 11.7041 - gender_output_acc: 0.8530 - style_output_acc: 0.2739"
          ],
          "name": "stdout"
        },
        {
          "output_type": "stream",
          "text": [
            "2701/5165 [==============>...............] - ETA: 6:47 - loss: 2.3686 - gender_output_loss: 2.3686 - style_output_loss: 11.7028 - gender_output_acc: 0.8514 - style_output_acc: 0.2739"
          ],
          "name": "stdout"
        },
        {
          "output_type": "stream",
          "text": [
            "3249/5165 [=================>............] - ETA: 5:16 - loss: 2.3641 - gender_output_loss: 2.3641 - style_output_loss: 11.6939 - gender_output_acc: 0.8517 - style_output_acc: 0.2745"
          ],
          "name": "stdout"
        },
        {
          "output_type": "stream",
          "text": [
            "3797/5165 [=====================>........] - ETA: 3:45 - loss: 2.3571 - gender_output_loss: 2.3571 - style_output_loss: 11.6995 - gender_output_acc: 0.8521 - style_output_acc: 0.2741"
          ],
          "name": "stdout"
        },
        {
          "output_type": "stream",
          "text": [
            "4345/5165 [========================>.....] - ETA: 2:15 - loss: 2.3765 - gender_output_loss: 2.3765 - style_output_loss: 11.6993 - gender_output_acc: 0.8509 - style_output_acc: 0.2742"
          ],
          "name": "stdout"
        },
        {
          "output_type": "stream",
          "text": [
            "4893/5165 [===========================>..] - ETA: 44s - loss: 2.3720 - gender_output_loss: 2.3720 - style_output_loss: 11.7013 - gender_output_acc: 0.8512 - style_output_acc: 0.2740"
          ],
          "name": "stdout"
        },
        {
          "output_type": "stream",
          "text": [
            "5164/5165 [============================>.] - ETA: 0s - loss: 2.3713 - gender_output_loss: 2.3713 - style_output_loss: 11.6912 - gender_output_acc: 0.8513 - style_output_acc: 0.2747\n",
            "5165/5165 [==============================] - 858s 166ms/step - loss: 2.3714 - gender_output_loss: 2.3714 - style_output_loss: 11.6912 - gender_output_acc: 0.8512 - style_output_acc: 0.2747 - val_loss: 2.3230 - val_gender_output_loss: 2.3230 - val_style_output_loss: 11.9581 - val_gender_output_acc: 0.8543 - val_style_output_acc: 0.2581\n",
            "\n",
            "Epoch 00001: loss improved from 14.05644 to 2.37145, saving model to Models_Fashion/loss-train-weights-improvement-2.3714.hdf5\n",
            "\n",
            "Epoch 00001: val_loss improved from 14.31166 to 2.32303, saving model to Models_Fashion/loss-test-weights-improvement-2.3230.hdf5\n",
            "\n",
            "Epoch 00001: val_gender_output_loss improved from 2.33822 to 2.32303, saving model to Models_Fashion/loss-val-gender-weights-improvement-2.3230-0.8543.hdf5\n",
            "\n",
            "Epoch 00001: val_style_output_loss improved from 11.97344 to 11.95809, saving model to Models_Fashion/loss-val-style-weights-improvement-11.9581-0.2581.hdf5\n",
            "Epoch 2/50\n",
            "  35/5165 [..............................] - ETA: 14:12 - loss: 2.1864 - gender_output_loss: 2.1864 - style_output_loss: 11.8813 - gender_output_acc: 0.8629 - style_output_acc: 0.2629"
          ],
          "name": "stdout"
        },
        {
          "output_type": "stream",
          "text": [
            " 580/5165 [==>...........................] - ETA: 12:36 - loss: 2.3611 - gender_output_loss: 2.3611 - style_output_loss: 11.7051 - gender_output_acc: 0.8519 - style_output_acc: 0.2738"
          ],
          "name": "stdout"
        },
        {
          "output_type": "stream",
          "text": [
            "1125/5165 [=====>........................] - ETA: 11:06 - loss: 2.3751 - gender_output_loss: 2.3751 - style_output_loss: 11.6795 - gender_output_acc: 0.8510 - style_output_acc: 0.2754"
          ],
          "name": "stdout"
        },
        {
          "output_type": "stream",
          "text": [
            "1646/5165 [========>.....................] - ETA: 9:40 - loss: 2.3420 - gender_output_loss: 2.3420 - style_output_loss: 11.7008 - gender_output_acc: 0.8531 - style_output_acc: 0.2741"
          ],
          "name": "stdout"
        },
        {
          "output_type": "stream",
          "text": [
            "Process ForkPoolWorker-108:\n",
            "Process ForkPoolWorker-100:\n",
            "Process ForkPoolWorker-97:\n",
            "Process ForkPoolWorker-95:\n",
            "Process ForkPoolWorker-96:\n",
            "Traceback (most recent call last):\n",
            "Process ForkPoolWorker-105:\n",
            "Process ForkPoolWorker-101:\n",
            "Process ForkPoolWorker-110:\n",
            "Traceback (most recent call last):\n",
            "Traceback (most recent call last):\n",
            "Traceback (most recent call last):\n",
            "  File \"/usr/lib/python3.6/multiprocessing/process.py\", line 258, in _bootstrap\n",
            "    self.run()\n",
            "Traceback (most recent call last):\n",
            "Traceback (most recent call last):\n",
            "  File \"/usr/lib/python3.6/multiprocessing/process.py\", line 258, in _bootstrap\n",
            "    self.run()\n",
            "Traceback (most recent call last):\n",
            "  File \"/usr/lib/python3.6/multiprocessing/process.py\", line 258, in _bootstrap\n",
            "    self.run()\n",
            "  File \"/usr/lib/python3.6/multiprocessing/process.py\", line 93, in run\n",
            "    self._target(*self._args, **self._kwargs)\n",
            "Process ForkPoolWorker-106:\n",
            "  File \"/usr/lib/python3.6/multiprocessing/process.py\", line 258, in _bootstrap\n",
            "    self.run()\n",
            "  File \"/usr/lib/python3.6/multiprocessing/process.py\", line 93, in run\n",
            "    self._target(*self._args, **self._kwargs)\n",
            "  File \"/usr/lib/python3.6/multiprocessing/process.py\", line 93, in run\n",
            "    self._target(*self._args, **self._kwargs)\n",
            "  File \"/usr/lib/python3.6/multiprocessing/process.py\", line 258, in _bootstrap\n",
            "    self.run()\n",
            "Traceback (most recent call last):\n",
            "Process ForkPoolWorker-94:\n",
            "  File \"/usr/lib/python3.6/multiprocessing/process.py\", line 258, in _bootstrap\n",
            "    self.run()\n",
            "  File \"/usr/lib/python3.6/multiprocessing/process.py\", line 258, in _bootstrap\n",
            "    self.run()\n",
            "  File \"/usr/lib/python3.6/multiprocessing/process.py\", line 93, in run\n",
            "    self._target(*self._args, **self._kwargs)\n",
            "  File \"/usr/lib/python3.6/multiprocessing/pool.py\", line 108, in worker\n",
            "    task = get()\n",
            "  File \"/usr/lib/python3.6/multiprocessing/pool.py\", line 108, in worker\n",
            "    task = get()\n",
            "  File \"/usr/lib/python3.6/multiprocessing/process.py\", line 258, in _bootstrap\n",
            "    self.run()\n",
            "  File \"/usr/lib/python3.6/multiprocessing/process.py\", line 93, in run\n",
            "    self._target(*self._args, **self._kwargs)\n",
            "Traceback (most recent call last):\n",
            "  File \"/usr/lib/python3.6/multiprocessing/pool.py\", line 108, in worker\n",
            "    task = get()\n",
            "  File \"/usr/lib/python3.6/multiprocessing/process.py\", line 93, in run\n",
            "    self._target(*self._args, **self._kwargs)\n",
            "Traceback (most recent call last):\n",
            "  File \"/usr/lib/python3.6/multiprocessing/process.py\", line 93, in run\n",
            "    self._target(*self._args, **self._kwargs)\n",
            "  File \"/usr/lib/python3.6/multiprocessing/pool.py\", line 108, in worker\n",
            "    task = get()\n",
            "  File \"/usr/lib/python3.6/multiprocessing/queues.py\", line 334, in get\n",
            "    with self._rlock:\n",
            "  File \"/usr/lib/python3.6/multiprocessing/process.py\", line 93, in run\n",
            "    self._target(*self._args, **self._kwargs)\n",
            "  File \"/usr/lib/python3.6/multiprocessing/pool.py\", line 108, in worker\n",
            "    task = get()\n",
            "  File \"/usr/lib/python3.6/multiprocessing/pool.py\", line 108, in worker\n",
            "    task = get()\n",
            "  File \"/usr/lib/python3.6/multiprocessing/queues.py\", line 334, in get\n",
            "    with self._rlock:\n",
            "  File \"/usr/lib/python3.6/multiprocessing/queues.py\", line 335, in get\n",
            "    res = self._reader.recv_bytes()\n",
            "  File \"/usr/lib/python3.6/multiprocessing/process.py\", line 258, in _bootstrap\n",
            "    self.run()\n",
            "  File \"/usr/lib/python3.6/multiprocessing/process.py\", line 258, in _bootstrap\n",
            "    self.run()\n",
            "  File \"/usr/lib/python3.6/multiprocessing/pool.py\", line 125, in worker\n",
            "    put((job, i, result))\n",
            "  File \"/usr/lib/python3.6/multiprocessing/queues.py\", line 334, in get\n",
            "    with self._rlock:\n",
            "  File \"/usr/lib/python3.6/multiprocessing/queues.py\", line 334, in get\n",
            "    with self._rlock:\n",
            "  File \"/usr/lib/python3.6/multiprocessing/queues.py\", line 334, in get\n",
            "    with self._rlock:\n",
            "  File \"/usr/lib/python3.6/multiprocessing/connection.py\", line 216, in recv_bytes\n",
            "    buf = self._recv_bytes(maxlength)\n",
            "  File \"/usr/lib/python3.6/multiprocessing/pool.py\", line 108, in worker\n",
            "    task = get()\n",
            "  File \"/usr/lib/python3.6/multiprocessing/synchronize.py\", line 96, in __enter__\n",
            "    return self._semlock.__enter__()\n",
            "  File \"/usr/lib/python3.6/multiprocessing/synchronize.py\", line 96, in __enter__\n",
            "    return self._semlock.__enter__()\n"
          ],
          "name": "stderr"
        },
        {
          "output_type": "stream",
          "text": [
            "  File \"/usr/lib/python3.6/multiprocessing/process.py\", line 93, in run\n",
            "    self._target(*self._args, **self._kwargs)\n",
            "  File \"/usr/lib/python3.6/multiprocessing/synchronize.py\", line 96, in __enter__\n",
            "    return self._semlock.__enter__()\n",
            "  File \"/usr/lib/python3.6/multiprocessing/synchronize.py\", line 96, in __enter__\n",
            "    return self._semlock.__enter__()\n",
            "  File \"/usr/lib/python3.6/multiprocessing/queues.py\", line 334, in get\n",
            "    with self._rlock:\n",
            "  File \"/usr/lib/python3.6/multiprocessing/synchronize.py\", line 96, in __enter__\n",
            "    return self._semlock.__enter__()\n",
            "  File \"/usr/lib/python3.6/multiprocessing/process.py\", line 93, in run\n",
            "    self._target(*self._args, **self._kwargs)\n",
            "KeyboardInterrupt\n",
            "  File \"/usr/lib/python3.6/multiprocessing/connection.py\", line 407, in _recv_bytes\n",
            "    buf = self._recv(4)\n",
            "  File \"/usr/lib/python3.6/multiprocessing/queues.py\", line 347, in put\n",
            "    self._writer.send_bytes(obj)\n",
            "  File \"/usr/lib/python3.6/multiprocessing/pool.py\", line 108, in worker\n",
            "    task = get()\n",
            "KeyboardInterrupt\n",
            "  File \"/usr/lib/python3.6/multiprocessing/pool.py\", line 108, in worker\n",
            "    task = get()\n",
            "KeyboardInterrupt\n",
            "KeyboardInterrupt\n",
            "KeyboardInterrupt\n",
            "KeyboardInterrupt\n",
            "  File \"/usr/lib/python3.6/multiprocessing/synchronize.py\", line 96, in __enter__\n",
            "    return self._semlock.__enter__()\n",
            "  File \"/usr/lib/python3.6/multiprocessing/connection.py\", line 200, in send_bytes\n",
            "    self._send_bytes(m[offset:offset + size])\n",
            "  File \"/usr/lib/python3.6/multiprocessing/connection.py\", line 379, in _recv\n",
            "    chunk = read(handle, remaining)\n",
            "  File \"/usr/lib/python3.6/multiprocessing/queues.py\", line 334, in get\n",
            "    with self._rlock:\n",
            "  File \"/usr/lib/python3.6/multiprocessing/queues.py\", line 334, in get\n",
            "    with self._rlock:\n",
            "  File \"/usr/lib/python3.6/multiprocessing/connection.py\", line 398, in _send_bytes\n",
            "    self._send(buf)\n",
            "KeyboardInterrupt\n",
            "  File \"/usr/lib/python3.6/multiprocessing/synchronize.py\", line 96, in __enter__\n",
            "    return self._semlock.__enter__()\n",
            "  File \"/usr/lib/python3.6/multiprocessing/synchronize.py\", line 96, in __enter__\n",
            "    return self._semlock.__enter__()\n",
            "  File \"/usr/lib/python3.6/multiprocessing/connection.py\", line 368, in _send\n",
            "    n = write(self._handle, buf)\n",
            "KeyboardInterrupt\n",
            "KeyboardInterrupt\n",
            "KeyboardInterrupt\n"
          ],
          "name": "stderr"
        },
        {
          "output_type": "error",
          "ename": "KeyboardInterrupt",
          "evalue": "ignored",
          "traceback": [
            "\u001b[0;31m---------------------------------------------------------------------------\u001b[0m",
            "\u001b[0;31mKeyboardInterrupt\u001b[0m                         Traceback (most recent call last)",
            "\u001b[0;32m<ipython-input-34-c11a1f8cccc0>\u001b[0m in \u001b[0;36m<module>\u001b[0;34m()\u001b[0m\n\u001b[1;32m      5\u001b[0m                     \u001b[0muse_multiprocessing\u001b[0m\u001b[0;34m=\u001b[0m\u001b[0;32mTrue\u001b[0m\u001b[0;34m,\u001b[0m\u001b[0;34m\u001b[0m\u001b[0m\n\u001b[1;32m      6\u001b[0m                     \u001b[0mworkers\u001b[0m\u001b[0;34m=\u001b[0m\u001b[0;36m10\u001b[0m\u001b[0;34m,\u001b[0m\u001b[0;34m\u001b[0m\u001b[0m\n\u001b[0;32m----> 7\u001b[0;31m                     callbacks=callback_list)\n\u001b[0m",
            "\u001b[0;32m/usr/local/lib/python3.6/dist-packages/keras/legacy/interfaces.py\u001b[0m in \u001b[0;36mwrapper\u001b[0;34m(*args, **kwargs)\u001b[0m\n\u001b[1;32m     89\u001b[0m                 warnings.warn('Update your `' + object_name +\n\u001b[1;32m     90\u001b[0m                               '` call to the Keras 2 API: ' + signature, stacklevel=2)\n\u001b[0;32m---> 91\u001b[0;31m             \u001b[0;32mreturn\u001b[0m \u001b[0mfunc\u001b[0m\u001b[0;34m(\u001b[0m\u001b[0;34m*\u001b[0m\u001b[0margs\u001b[0m\u001b[0;34m,\u001b[0m \u001b[0;34m**\u001b[0m\u001b[0mkwargs\u001b[0m\u001b[0;34m)\u001b[0m\u001b[0;34m\u001b[0m\u001b[0m\n\u001b[0m\u001b[1;32m     92\u001b[0m         \u001b[0mwrapper\u001b[0m\u001b[0;34m.\u001b[0m\u001b[0m_original_function\u001b[0m \u001b[0;34m=\u001b[0m \u001b[0mfunc\u001b[0m\u001b[0;34m\u001b[0m\u001b[0m\n\u001b[1;32m     93\u001b[0m         \u001b[0;32mreturn\u001b[0m \u001b[0mwrapper\u001b[0m\u001b[0;34m\u001b[0m\u001b[0m\n",
            "\u001b[0;32m/usr/local/lib/python3.6/dist-packages/keras/engine/training.py\u001b[0m in \u001b[0;36mfit_generator\u001b[0;34m(self, generator, steps_per_epoch, epochs, verbose, callbacks, validation_data, validation_steps, class_weight, max_queue_size, workers, use_multiprocessing, shuffle, initial_epoch)\u001b[0m\n\u001b[1;32m   2228\u001b[0m                     outs = self.train_on_batch(x, y,\n\u001b[1;32m   2229\u001b[0m                                                \u001b[0msample_weight\u001b[0m\u001b[0;34m=\u001b[0m\u001b[0msample_weight\u001b[0m\u001b[0;34m,\u001b[0m\u001b[0;34m\u001b[0m\u001b[0m\n\u001b[0;32m-> 2230\u001b[0;31m                                                class_weight=class_weight)\n\u001b[0m\u001b[1;32m   2231\u001b[0m \u001b[0;34m\u001b[0m\u001b[0m\n\u001b[1;32m   2232\u001b[0m                     \u001b[0;32mif\u001b[0m \u001b[0;32mnot\u001b[0m \u001b[0misinstance\u001b[0m\u001b[0;34m(\u001b[0m\u001b[0mouts\u001b[0m\u001b[0;34m,\u001b[0m \u001b[0mlist\u001b[0m\u001b[0;34m)\u001b[0m\u001b[0;34m:\u001b[0m\u001b[0;34m\u001b[0m\u001b[0m\n",
            "\u001b[0;32m/usr/local/lib/python3.6/dist-packages/keras/engine/training.py\u001b[0m in \u001b[0;36mtrain_on_batch\u001b[0;34m(self, x, y, sample_weight, class_weight)\u001b[0m\n\u001b[1;32m   1881\u001b[0m             \u001b[0mins\u001b[0m \u001b[0;34m=\u001b[0m \u001b[0mx\u001b[0m \u001b[0;34m+\u001b[0m \u001b[0my\u001b[0m \u001b[0;34m+\u001b[0m \u001b[0msample_weights\u001b[0m\u001b[0;34m\u001b[0m\u001b[0m\n\u001b[1;32m   1882\u001b[0m         \u001b[0mself\u001b[0m\u001b[0;34m.\u001b[0m\u001b[0m_make_train_function\u001b[0m\u001b[0;34m(\u001b[0m\u001b[0;34m)\u001b[0m\u001b[0;34m\u001b[0m\u001b[0m\n\u001b[0;32m-> 1883\u001b[0;31m         \u001b[0moutputs\u001b[0m \u001b[0;34m=\u001b[0m \u001b[0mself\u001b[0m\u001b[0;34m.\u001b[0m\u001b[0mtrain_function\u001b[0m\u001b[0;34m(\u001b[0m\u001b[0mins\u001b[0m\u001b[0;34m)\u001b[0m\u001b[0;34m\u001b[0m\u001b[0m\n\u001b[0m\u001b[1;32m   1884\u001b[0m         \u001b[0;32mif\u001b[0m \u001b[0mlen\u001b[0m\u001b[0;34m(\u001b[0m\u001b[0moutputs\u001b[0m\u001b[0;34m)\u001b[0m \u001b[0;34m==\u001b[0m \u001b[0;36m1\u001b[0m\u001b[0;34m:\u001b[0m\u001b[0;34m\u001b[0m\u001b[0m\n\u001b[1;32m   1885\u001b[0m             \u001b[0;32mreturn\u001b[0m \u001b[0moutputs\u001b[0m\u001b[0;34m[\u001b[0m\u001b[0;36m0\u001b[0m\u001b[0;34m]\u001b[0m\u001b[0;34m\u001b[0m\u001b[0m\n",
            "\u001b[0;32m/usr/local/lib/python3.6/dist-packages/keras/backend/tensorflow_backend.py\u001b[0m in \u001b[0;36m__call__\u001b[0;34m(self, inputs)\u001b[0m\n\u001b[1;32m   2480\u001b[0m         \u001b[0msession\u001b[0m \u001b[0;34m=\u001b[0m \u001b[0mget_session\u001b[0m\u001b[0;34m(\u001b[0m\u001b[0;34m)\u001b[0m\u001b[0;34m\u001b[0m\u001b[0m\n\u001b[1;32m   2481\u001b[0m         updated = session.run(fetches=fetches, feed_dict=feed_dict,\n\u001b[0;32m-> 2482\u001b[0;31m                               **self.session_kwargs)\n\u001b[0m\u001b[1;32m   2483\u001b[0m         \u001b[0;32mreturn\u001b[0m \u001b[0mupdated\u001b[0m\u001b[0;34m[\u001b[0m\u001b[0;34m:\u001b[0m\u001b[0mlen\u001b[0m\u001b[0;34m(\u001b[0m\u001b[0mself\u001b[0m\u001b[0;34m.\u001b[0m\u001b[0moutputs\u001b[0m\u001b[0;34m)\u001b[0m\u001b[0;34m]\u001b[0m\u001b[0;34m\u001b[0m\u001b[0m\n\u001b[1;32m   2484\u001b[0m \u001b[0;34m\u001b[0m\u001b[0m\n",
            "\u001b[0;32m/usr/local/lib/python3.6/dist-packages/tensorflow/python/client/session.py\u001b[0m in \u001b[0;36mrun\u001b[0;34m(self, fetches, feed_dict, options, run_metadata)\u001b[0m\n\u001b[1;32m    903\u001b[0m     \u001b[0;32mtry\u001b[0m\u001b[0;34m:\u001b[0m\u001b[0;34m\u001b[0m\u001b[0m\n\u001b[1;32m    904\u001b[0m       result = self._run(None, fetches, feed_dict, options_ptr,\n\u001b[0;32m--> 905\u001b[0;31m                          run_metadata_ptr)\n\u001b[0m\u001b[1;32m    906\u001b[0m       \u001b[0;32mif\u001b[0m \u001b[0mrun_metadata\u001b[0m\u001b[0;34m:\u001b[0m\u001b[0;34m\u001b[0m\u001b[0m\n\u001b[1;32m    907\u001b[0m         \u001b[0mproto_data\u001b[0m \u001b[0;34m=\u001b[0m \u001b[0mtf_session\u001b[0m\u001b[0;34m.\u001b[0m\u001b[0mTF_GetBuffer\u001b[0m\u001b[0;34m(\u001b[0m\u001b[0mrun_metadata_ptr\u001b[0m\u001b[0;34m)\u001b[0m\u001b[0;34m\u001b[0m\u001b[0m\n",
            "\u001b[0;32m/usr/local/lib/python3.6/dist-packages/tensorflow/python/client/session.py\u001b[0m in \u001b[0;36m_run\u001b[0;34m(self, handle, fetches, feed_dict, options, run_metadata)\u001b[0m\n\u001b[1;32m   1138\u001b[0m     \u001b[0;32mif\u001b[0m \u001b[0mfinal_fetches\u001b[0m \u001b[0;32mor\u001b[0m \u001b[0mfinal_targets\u001b[0m \u001b[0;32mor\u001b[0m \u001b[0;34m(\u001b[0m\u001b[0mhandle\u001b[0m \u001b[0;32mand\u001b[0m \u001b[0mfeed_dict_tensor\u001b[0m\u001b[0;34m)\u001b[0m\u001b[0;34m:\u001b[0m\u001b[0;34m\u001b[0m\u001b[0m\n\u001b[1;32m   1139\u001b[0m       results = self._do_run(handle, final_targets, final_fetches,\n\u001b[0;32m-> 1140\u001b[0;31m                              feed_dict_tensor, options, run_metadata)\n\u001b[0m\u001b[1;32m   1141\u001b[0m     \u001b[0;32melse\u001b[0m\u001b[0;34m:\u001b[0m\u001b[0;34m\u001b[0m\u001b[0m\n\u001b[1;32m   1142\u001b[0m       \u001b[0mresults\u001b[0m \u001b[0;34m=\u001b[0m \u001b[0;34m[\u001b[0m\u001b[0;34m]\u001b[0m\u001b[0;34m\u001b[0m\u001b[0m\n",
            "\u001b[0;32m/usr/local/lib/python3.6/dist-packages/tensorflow/python/client/session.py\u001b[0m in \u001b[0;36m_do_run\u001b[0;34m(self, handle, target_list, fetch_list, feed_dict, options, run_metadata)\u001b[0m\n\u001b[1;32m   1319\u001b[0m     \u001b[0;32mif\u001b[0m \u001b[0mhandle\u001b[0m \u001b[0;32mis\u001b[0m \u001b[0;32mNone\u001b[0m\u001b[0;34m:\u001b[0m\u001b[0;34m\u001b[0m\u001b[0m\n\u001b[1;32m   1320\u001b[0m       return self._do_call(_run_fn, feeds, fetches, targets, options,\n\u001b[0;32m-> 1321\u001b[0;31m                            run_metadata)\n\u001b[0m\u001b[1;32m   1322\u001b[0m     \u001b[0;32melse\u001b[0m\u001b[0;34m:\u001b[0m\u001b[0;34m\u001b[0m\u001b[0m\n\u001b[1;32m   1323\u001b[0m       \u001b[0;32mreturn\u001b[0m \u001b[0mself\u001b[0m\u001b[0;34m.\u001b[0m\u001b[0m_do_call\u001b[0m\u001b[0;34m(\u001b[0m\u001b[0m_prun_fn\u001b[0m\u001b[0;34m,\u001b[0m \u001b[0mhandle\u001b[0m\u001b[0;34m,\u001b[0m \u001b[0mfeeds\u001b[0m\u001b[0;34m,\u001b[0m \u001b[0mfetches\u001b[0m\u001b[0;34m)\u001b[0m\u001b[0;34m\u001b[0m\u001b[0m\n",
            "\u001b[0;32m/usr/local/lib/python3.6/dist-packages/tensorflow/python/client/session.py\u001b[0m in \u001b[0;36m_do_call\u001b[0;34m(self, fn, *args)\u001b[0m\n\u001b[1;32m   1325\u001b[0m   \u001b[0;32mdef\u001b[0m \u001b[0m_do_call\u001b[0m\u001b[0;34m(\u001b[0m\u001b[0mself\u001b[0m\u001b[0;34m,\u001b[0m \u001b[0mfn\u001b[0m\u001b[0;34m,\u001b[0m \u001b[0;34m*\u001b[0m\u001b[0margs\u001b[0m\u001b[0;34m)\u001b[0m\u001b[0;34m:\u001b[0m\u001b[0;34m\u001b[0m\u001b[0m\n\u001b[1;32m   1326\u001b[0m     \u001b[0;32mtry\u001b[0m\u001b[0;34m:\u001b[0m\u001b[0;34m\u001b[0m\u001b[0m\n\u001b[0;32m-> 1327\u001b[0;31m       \u001b[0;32mreturn\u001b[0m \u001b[0mfn\u001b[0m\u001b[0;34m(\u001b[0m\u001b[0;34m*\u001b[0m\u001b[0margs\u001b[0m\u001b[0;34m)\u001b[0m\u001b[0;34m\u001b[0m\u001b[0m\n\u001b[0m\u001b[1;32m   1328\u001b[0m     \u001b[0;32mexcept\u001b[0m \u001b[0merrors\u001b[0m\u001b[0;34m.\u001b[0m\u001b[0mOpError\u001b[0m \u001b[0;32mas\u001b[0m \u001b[0me\u001b[0m\u001b[0;34m:\u001b[0m\u001b[0;34m\u001b[0m\u001b[0m\n\u001b[1;32m   1329\u001b[0m       \u001b[0mmessage\u001b[0m \u001b[0;34m=\u001b[0m \u001b[0mcompat\u001b[0m\u001b[0;34m.\u001b[0m\u001b[0mas_text\u001b[0m\u001b[0;34m(\u001b[0m\u001b[0me\u001b[0m\u001b[0;34m.\u001b[0m\u001b[0mmessage\u001b[0m\u001b[0;34m)\u001b[0m\u001b[0;34m\u001b[0m\u001b[0m\n",
            "\u001b[0;32m/usr/local/lib/python3.6/dist-packages/tensorflow/python/client/session.py\u001b[0m in \u001b[0;36m_run_fn\u001b[0;34m(feed_dict, fetch_list, target_list, options, run_metadata)\u001b[0m\n\u001b[1;32m   1310\u001b[0m       \u001b[0mself\u001b[0m\u001b[0;34m.\u001b[0m\u001b[0m_extend_graph\u001b[0m\u001b[0;34m(\u001b[0m\u001b[0;34m)\u001b[0m\u001b[0;34m\u001b[0m\u001b[0m\n\u001b[1;32m   1311\u001b[0m       return self._call_tf_sessionrun(\n\u001b[0;32m-> 1312\u001b[0;31m           options, feed_dict, fetch_list, target_list, run_metadata)\n\u001b[0m\u001b[1;32m   1313\u001b[0m \u001b[0;34m\u001b[0m\u001b[0m\n\u001b[1;32m   1314\u001b[0m     \u001b[0;32mdef\u001b[0m \u001b[0m_prun_fn\u001b[0m\u001b[0;34m(\u001b[0m\u001b[0mhandle\u001b[0m\u001b[0;34m,\u001b[0m \u001b[0mfeed_dict\u001b[0m\u001b[0;34m,\u001b[0m \u001b[0mfetch_list\u001b[0m\u001b[0;34m)\u001b[0m\u001b[0;34m:\u001b[0m\u001b[0;34m\u001b[0m\u001b[0m\n",
            "\u001b[0;32m/usr/local/lib/python3.6/dist-packages/tensorflow/python/client/session.py\u001b[0m in \u001b[0;36m_call_tf_sessionrun\u001b[0;34m(self, options, feed_dict, fetch_list, target_list, run_metadata)\u001b[0m\n\u001b[1;32m   1418\u001b[0m         return tf_session.TF_Run(\n\u001b[1;32m   1419\u001b[0m             \u001b[0mself\u001b[0m\u001b[0;34m.\u001b[0m\u001b[0m_session\u001b[0m\u001b[0;34m,\u001b[0m \u001b[0moptions\u001b[0m\u001b[0;34m,\u001b[0m \u001b[0mfeed_dict\u001b[0m\u001b[0;34m,\u001b[0m \u001b[0mfetch_list\u001b[0m\u001b[0;34m,\u001b[0m \u001b[0mtarget_list\u001b[0m\u001b[0;34m,\u001b[0m\u001b[0;34m\u001b[0m\u001b[0m\n\u001b[0;32m-> 1420\u001b[0;31m             status, run_metadata)\n\u001b[0m\u001b[1;32m   1421\u001b[0m \u001b[0;34m\u001b[0m\u001b[0m\n\u001b[1;32m   1422\u001b[0m   \u001b[0;32mdef\u001b[0m \u001b[0m_call_tf_sessionprun\u001b[0m\u001b[0;34m(\u001b[0m\u001b[0mself\u001b[0m\u001b[0;34m,\u001b[0m \u001b[0mhandle\u001b[0m\u001b[0;34m,\u001b[0m \u001b[0mfeed_dict\u001b[0m\u001b[0;34m,\u001b[0m \u001b[0mfetch_list\u001b[0m\u001b[0;34m)\u001b[0m\u001b[0;34m:\u001b[0m\u001b[0;34m\u001b[0m\u001b[0m\n",
            "\u001b[0;31mKeyboardInterrupt\u001b[0m: "
          ]
        }
      ]
    },
    {
      "metadata": {
        "id": "phyt8Np4xYdO",
        "colab_type": "code",
        "colab": {
          "base_uri": "https://localhost:8080/",
          "height": 5646
        },
        "outputId": "edf8ae2e-2c58-45c3-88f8-356fb4021a88"
      },
      "cell_type": "code",
      "source": [
        "!top"
      ],
      "execution_count": 31,
      "outputs": [
        {
          "output_type": "stream",
          "text": [
            "\u001b[?1h\u001b=\u001b[H\u001b[2J\u001b[mtop - 03:39:42 up  2:10,  0 users,  load average: 0.30, 0.21, 0.75\u001b[m\u001b[m\u001b[m\u001b[m\u001b[K\n",
            "Tasks:\u001b[m\u001b[m\u001b[1m  18 \u001b[m\u001b[mtotal,\u001b[m\u001b[m\u001b[1m   1 \u001b[m\u001b[mrunning,\u001b[m\u001b[m\u001b[1m  17 \u001b[m\u001b[msleeping,\u001b[m\u001b[m\u001b[1m   0 \u001b[m\u001b[mstopped,\u001b[m\u001b[m\u001b[1m   0 \u001b[m\u001b[mzombie\u001b[m\u001b[m\u001b[m\u001b[m\u001b[K\n",
            "%Cpu(s):\u001b[m\u001b[m\u001b[1m 47.0 \u001b[m\u001b[mus,\u001b[m\u001b[m\u001b[1m  4.6 \u001b[m\u001b[msy,\u001b[m\u001b[m\u001b[1m  0.0 \u001b[m\u001b[mni,\u001b[m\u001b[m\u001b[1m 47.9 \u001b[m\u001b[mid,\u001b[m\u001b[m\u001b[1m  0.4 \u001b[m\u001b[mwa,\u001b[m\u001b[m\u001b[1m  0.0 \u001b[m\u001b[mhi,\u001b[m\u001b[m\u001b[1m  0.1 \u001b[m\u001b[msi,\u001b[m\u001b[m\u001b[1m  0.0 \u001b[m\u001b[mst\u001b[m\u001b[m\u001b[m\u001b[m\u001b[K\n",
            "KiB Mem :\u001b[m\u001b[m\u001b[1m 13341832 \u001b[m\u001b[mtotal,\u001b[m\u001b[m\u001b[1m   221352 \u001b[m\u001b[mfree,\u001b[m\u001b[m\u001b[1m  4865912 \u001b[m\u001b[mused,\u001b[m\u001b[m\u001b[1m  8254568 \u001b[m\u001b[mbuff/cache\u001b[m\u001b[m\u001b[m\u001b[m\u001b[K\n",
            "KiB Swap:\u001b[m\u001b[m\u001b[1m        0 \u001b[m\u001b[mtotal,\u001b[m\u001b[m\u001b[1m        0 \u001b[m\u001b[mfree,\u001b[m\u001b[m\u001b[1m        0 \u001b[m\u001b[mused.\u001b[m\u001b[m\u001b[1m  7562004 \u001b[m\u001b[mavail Mem \u001b[m\u001b[m\u001b[m\u001b[m\u001b[K\n",
            "\u001b[K\n",
            "\u001b[7m  PID USER      PR  NI    VIRT    RES    SHR S  %CPU %MEM     TIME+ COMMAND     \u001b[m\u001b[m\u001b[K\n",
            "\u001b[m    1 root      20   0   39148   6520   5144 S   0.0  0.0   0:00.09 run.sh      \u001b[m\u001b[m\u001b[K\n",
            "\u001b[m   69 root      20   0  688536  49088  21772 S   0.0  0.4   0:05.43 node        \u001b[m\u001b[m\u001b[K\n",
            "\u001b[m   79 root      20   0  740808  77376  22852 S   0.0  0.6   0:49.03 node        \u001b[m\u001b[m\u001b[K\n",
            "\u001b[m   89 root      20   0  188044  61784  12400 S   0.0  0.5   0:38.27 jupyter-no+ \u001b[m\u001b[m\u001b[K\n",
            "\u001b[m 1113 root      20   0 39.314g 1.398g  76944 S   0.0 11.0   0:00.00 python3     \u001b[m\u001b[m\u001b[K\n",
            "\u001b[m 1114 root      20   0 39.314g 1.398g  76944 S   0.0 11.0   0:00.00 python3     \u001b[m\u001b[m\u001b[K\n",
            "\u001b[m 1115 root      20   0 39.314g 1.398g  76944 S   0.0 11.0   0:00.00 python3     \u001b[m\u001b[m\u001b[K\n",
            "\u001b[m 1116 root      20   0 39.314g 1.398g  76944 S   0.0 11.0   0:00.00 python3     \u001b[m\u001b[m\u001b[K\n",
            "\u001b[m 1117 root      20   0 39.314g 1.398g  76944 S   0.0 11.0   0:00.00 python3     \u001b[m\u001b[m\u001b[K\n",
            "\u001b[m 1118 root      20   0 39.314g 1.398g  76944 S   0.0 11.0   0:00.00 python3     \u001b[m\u001b[m\u001b[K\n",
            "\u001b[m 1119 root      20   0 39.314g 1.398g  76944 S   0.0 11.0   0:00.00 python3     \u001b[m\u001b[m\u001b[K\n",
            "\u001b[m 1120 root      20   0 39.314g 1.398g  76944 S   0.0 11.0   0:00.00 python3     \u001b[m\u001b[m\u001b[K\n",
            "\u001b[m 1121 root      20   0 39.314g 1.398g  76944 S   0.0 11.0   0:00.00 python3     \u001b[m\u001b[m\u001b[K\n",
            "\u001b[m 1122 root      20   0 39.314g 1.398g  76944 S   0.0 11.0   0:00.00 python3     \u001b[m\u001b[m\u001b[K\n",
            "\u001b[m 1160 root      20   0 39.739g 2.163g 423656 S   0.0 17.0   1:00.42 python3     \u001b[m\u001b[m\u001b[K\n",
            "\u001b[m 1200 root      20   0 38.870g 1.428g 552060 S   0.0 11.2   0:18.46 python3     \u001b[m\u001b[m\u001b[K\n",
            "\u001b[m 1271 root      20   0   33964   4732   3620 S   0.0  0.0   0:01.04 sh          \u001b[m\u001b[m\u001b[K\u001b[H\u001b[mtop - 03:39:45 up  2:10,  0 users,  load average: 0.28, 0.20, 0.74\u001b[m\u001b[m\u001b[m\u001b[m\u001b[K\n",
            "Tasks:\u001b[m\u001b[m\u001b[1m  18 \u001b[m\u001b[mtotal,\u001b[m\u001b[m\u001b[1m   1 \u001b[m\u001b[mrunning,\u001b[m\u001b[m\u001b[1m  17 \u001b[m\u001b[msleeping,\u001b[m\u001b[m\u001b[1m   0 \u001b[m\u001b[mstopped,\u001b[m\u001b[m\u001b[1m   0 \u001b[m\u001b[mzombie\u001b[m\u001b[m\u001b[m\u001b[m\u001b[K\n",
            "%Cpu(s):\u001b[m\u001b[m\u001b[1m  1.7 \u001b[m\u001b[mus,\u001b[m\u001b[m\u001b[1m  1.5 \u001b[m\u001b[msy,\u001b[m\u001b[m\u001b[1m  0.0 \u001b[m\u001b[mni,\u001b[m\u001b[m\u001b[1m 96.8 \u001b[m\u001b[mid,\u001b[m\u001b[m\u001b[1m  0.0 \u001b[m\u001b[mwa,\u001b[m\u001b[m\u001b[1m  0.0 \u001b[m\u001b[mhi,\u001b[m\u001b[m\u001b[1m  0.0 \u001b[m\u001b[msi,\u001b[m\u001b[m\u001b[1m  0.0 \u001b[m\u001b[mst\u001b[m\u001b[m\u001b[m\u001b[m\u001b[K\n",
            "KiB Mem :\u001b[m\u001b[m\u001b[1m 13341832 \u001b[m\u001b[mtotal,\u001b[m\u001b[m\u001b[1m   221508 \u001b[m\u001b[mfree,\u001b[m\u001b[m\u001b[1m  4865740 \u001b[m\u001b[mused,\u001b[m\u001b[m\u001b[1m  8254584 \u001b[m\u001b[mbuff/cache\u001b[m\u001b[m\u001b[m\u001b[m\u001b[K\n",
            "KiB Swap:\u001b[m\u001b[m\u001b[1m        0 \u001b[m\u001b[mtotal,\u001b[m\u001b[m\u001b[1m        0 \u001b[m\u001b[mfree,\u001b[m\u001b[m\u001b[1m        0 \u001b[m\u001b[mused.\u001b[m\u001b[m\u001b[1m  7562192 \u001b[m\u001b[mavail Mem \u001b[m\u001b[m\u001b[m\u001b[m\u001b[K\n",
            "\u001b[K\n",
            "\n",
            "\u001b[m 1200 root      20   0 38.870g 1.428g 552060 S   3.7 11.2   0:18.57 python3     \u001b[m\u001b[m\u001b[K\n",
            "\u001b[m 1160 root      20   0 39.739g 2.163g 423656 S   1.7 17.0   1:00.47 python3     \u001b[m\u001b[m\u001b[K\n",
            "\u001b[m   79 root      20   0  740808  77228  22852 S   0.3  0.6   0:49.04 node        \u001b[m\u001b[m\u001b[K\n",
            "\u001b[m   89 root      20   0  188044  61784  12400 S   0.3  0.5   0:38.28 jupyter-no+ \u001b[m\u001b[m\u001b[K\n",
            "\u001b[m    1 root      20   0   39148   6520   5144 S   0.0  0.0   0:00.09 run.sh      \u001b[m\u001b[m\u001b[K\n",
            "\u001b[m   69 root      20   0  688536  49088  21772 S   0.0  0.4   0:05.43 node        \u001b[m\u001b[m\u001b[K\n",
            "\u001b[m 1113 root      20   0 39.314g 1.398g  76944 S   0.0 11.0   0:00.00 python3     \u001b[m\u001b[m\u001b[K\n",
            "\u001b[m 1114 root      20   0 39.314g 1.398g  76944 S   0.0 11.0   0:00.00 python3     \u001b[m\u001b[m\u001b[K\n",
            "\u001b[m 1115 root      20   0 39.314g 1.398g  76944 S   0.0 11.0   0:00.00 python3     \u001b[m\u001b[m\u001b[K\n",
            "\u001b[m 1116 root      20   0 39.314g 1.398g  76944 S   0.0 11.0   0:00.00 python3     \u001b[m\u001b[m\u001b[K\n",
            "\u001b[m 1117 root      20   0 39.314g 1.398g  76944 S   0.0 11.0   0:00.00 python3     \u001b[m\u001b[m\u001b[K\n",
            "\u001b[m 1118 root      20   0 39.314g 1.398g  76944 S   0.0 11.0   0:00.00 python3     \u001b[m\u001b[m\u001b[K\n",
            "\u001b[m 1119 root      20   0 39.314g 1.398g  76944 S   0.0 11.0   0:00.00 python3     \u001b[m\u001b[m\u001b[K\n",
            "\u001b[m 1120 root      20   0 39.314g 1.398g  76944 S   0.0 11.0   0:00.00 python3     \u001b[m\u001b[m\u001b[K\n",
            "\u001b[m 1121 root      20   0 39.314g 1.398g  76944 S   0.0 11.0   0:00.00 python3     \u001b[m\u001b[m\u001b[K\n",
            "\u001b[m 1122 root      20   0 39.314g 1.398g  76944 S   0.0 11.0   0:00.00 python3     \u001b[m\u001b[m\u001b[K\n",
            "\u001b[H\u001b[mtop - 03:39:48 up  2:10,  0 users,  load average: 0.28, 0.20, 0.74\u001b[m\u001b[m\u001b[m\u001b[m\u001b[K\n",
            "\n",
            "%Cpu(s):\u001b[m\u001b[m\u001b[1m  1.3 \u001b[m\u001b[mus,\u001b[m\u001b[m\u001b[1m  1.3 \u001b[m\u001b[msy,\u001b[m\u001b[m\u001b[1m  0.0 \u001b[m\u001b[mni,\u001b[m\u001b[m\u001b[1m 97.1 \u001b[m\u001b[mid,\u001b[m\u001b[m\u001b[1m  0.2 \u001b[m\u001b[mwa,\u001b[m\u001b[m\u001b[1m  0.0 \u001b[m\u001b[mhi,\u001b[m\u001b[m\u001b[1m  0.0 \u001b[m\u001b[msi,\u001b[m\u001b[m\u001b[1m  0.0 \u001b[m\u001b[mst\u001b[m\u001b[m\u001b[m\u001b[m\u001b[K\n",
            "KiB Mem :\u001b[m\u001b[m\u001b[1m 13341832 \u001b[m\u001b[mtotal,\u001b[m\u001b[m\u001b[1m   221416 \u001b[m\u001b[mfree,\u001b[m\u001b[m\u001b[1m  4865764 \u001b[m\u001b[mused,\u001b[m\u001b[m\u001b[1m  8254652 \u001b[m\u001b[mbuff/cache\u001b[m\u001b[m\u001b[m\u001b[m\u001b[K\n",
            "KiB Swap:\u001b[m\u001b[m\u001b[1m        0 \u001b[m\u001b[mtotal,\u001b[m\u001b[m\u001b[1m        0 \u001b[m\u001b[mfree,\u001b[m\u001b[m\u001b[1m        0 \u001b[m\u001b[mused.\u001b[m\u001b[m\u001b[1m  7562156 \u001b[m\u001b[mavail Mem \u001b[m\u001b[m\u001b[m\u001b[m\u001b[K\n",
            "\u001b[K\n",
            "\n",
            "\u001b[m 1200 root      20   0 38.870g 1.428g 552060 S   4.0 11.2   0:18.69 python3     \u001b[m\u001b[m\u001b[K\n",
            "\u001b[m 1160 root      20   0 39.739g 2.163g 423656 S   1.7 17.0   1:00.52 python3     \u001b[m\u001b[m\u001b[K\n",
            "\u001b[m    1 root      20   0   39148   6520   5144 S   0.0  0.0   0:00.09 run.sh      \u001b[m\u001b[m\u001b[K\n",
            "\u001b[m   69 root      20   0  688536  49088  21772 S   0.0  0.4   0:05.43 node        \u001b[m\u001b[m\u001b[K\n",
            "\u001b[m   79 root      20   0  740808  77752  22852 S   0.0  0.6   0:49.04 node        \u001b[m\u001b[m\u001b[K\n",
            "\u001b[m   89 root      20   0  188044  61784  12400 S   0.0  0.5   0:38.28 jupyter-no+ \u001b[m\u001b[m\u001b[K\n",
            "\n",
            "\n",
            "\n",
            "\n",
            "\n",
            "\n",
            "\n",
            "\n",
            "\n",
            "\n",
            "\u001b[H\u001b[mtop - 03:39:51 up  2:10,  0 users,  load average: 0.26, 0.20, 0.74\u001b[m\u001b[m\u001b[m\u001b[m\u001b[K\n",
            "\n",
            "%Cpu(s):\u001b[m\u001b[m\u001b[1m  1.8 \u001b[m\u001b[mus,\u001b[m\u001b[m\u001b[1m  1.5 \u001b[m\u001b[msy,\u001b[m\u001b[m\u001b[1m  0.0 \u001b[m\u001b[mni,\u001b[m\u001b[m\u001b[1m 96.7 \u001b[m\u001b[mid,\u001b[m\u001b[m\u001b[1m  0.0 \u001b[m\u001b[mwa,\u001b[m\u001b[m\u001b[1m  0.0 \u001b[m\u001b[mhi,\u001b[m\u001b[m\u001b[1m  0.0 \u001b[m\u001b[msi,\u001b[m\u001b[m\u001b[1m  0.0 \u001b[m\u001b[mst\u001b[m\u001b[m\u001b[m\u001b[m\u001b[K\n",
            "KiB Mem :\u001b[m\u001b[m\u001b[1m 13341832 \u001b[m\u001b[mtotal,\u001b[m\u001b[m\u001b[1m   218128 \u001b[m\u001b[mfree,\u001b[m\u001b[m\u001b[1m  4869044 \u001b[m\u001b[mused,\u001b[m\u001b[m\u001b[1m  8254660 \u001b[m\u001b[mbuff/cache\u001b[m\u001b[m\u001b[m\u001b[m\u001b[K\n",
            "KiB Swap:\u001b[m\u001b[m\u001b[1m        0 \u001b[m\u001b[mtotal,\u001b[m\u001b[m\u001b[1m        0 \u001b[m\u001b[mfree,\u001b[m\u001b[m\u001b[1m        0 \u001b[m\u001b[mused.\u001b[m\u001b[m\u001b[1m  7558900 \u001b[m\u001b[mavail Mem \u001b[m\u001b[m\u001b[m\u001b[m\u001b[K\n",
            "\u001b[K\n",
            "\n",
            "\u001b[m 1200 root      20   0 38.870g 1.428g 552060 S   3.7 11.2   0:18.80 python3     \u001b[m\u001b[m\u001b[K\n",
            "\u001b[m 1160 root      20   0 39.739g 2.163g 423656 S   1.3 17.0   1:00.56 python3     \u001b[m\u001b[m\u001b[K\n",
            "\n",
            "\n",
            "\u001b[m   79 root      20   0  740808  78016  22852 S   0.0  0.6   0:49.04 node        \u001b[m\u001b[m\u001b[K\n",
            "\n",
            "\n",
            "\n",
            "\n",
            "\n",
            "\n",
            "\n",
            "\n",
            "\n",
            "\n",
            "\n",
            "\u001b[H\u001b[mtop - 03:39:54 up  2:10,  0 users,  load average: 0.26, 0.20, 0.74\u001b[m\u001b[m\u001b[m\u001b[m\u001b[K\n",
            "\n",
            "%Cpu(s):\u001b[m\u001b[m\u001b[1m  1.5 \u001b[m\u001b[mus,\u001b[m\u001b[m\u001b[1m  1.2 \u001b[m\u001b[msy,\u001b[m\u001b[m\u001b[1m  0.0 \u001b[m\u001b[mni,\u001b[m\u001b[m\u001b[1m 97.1 \u001b[m\u001b[mid,\u001b[m\u001b[m\u001b[1m  0.2 \u001b[m\u001b[mwa,\u001b[m\u001b[m\u001b[1m  0.0 \u001b[m\u001b[mhi,\u001b[m\u001b[m\u001b[1m  0.0 \u001b[m\u001b[msi,\u001b[m\u001b[m\u001b[1m  0.0 \u001b[m\u001b[mst\u001b[m\u001b[m\u001b[m\u001b[m\u001b[K\n",
            "KiB Mem :\u001b[m\u001b[m\u001b[1m 13341832 \u001b[m\u001b[mtotal,\u001b[m\u001b[m\u001b[1m   218532 \u001b[m\u001b[mfree,\u001b[m\u001b[m\u001b[1m  4868600 \u001b[m\u001b[mused,\u001b[m\u001b[m\u001b[1m  8254700 \u001b[m\u001b[mbuff/cache\u001b[m\u001b[m\u001b[m\u001b[m\u001b[K\n",
            "KiB Swap:\u001b[m\u001b[m\u001b[1m        0 \u001b[m\u001b[mtotal,\u001b[m\u001b[m\u001b[1m        0 \u001b[m\u001b[mfree,\u001b[m\u001b[m\u001b[1m        0 \u001b[m\u001b[mused.\u001b[m\u001b[m\u001b[1m  7559324 \u001b[m\u001b[mavail Mem \u001b[m\u001b[m\u001b[m\u001b[m\u001b[K\n",
            "\u001b[K\n",
            "\n",
            "\u001b[m 1200 root      20   0 38.870g 1.428g 552060 S   3.7 11.2   0:18.91 python3     \u001b[m\u001b[m\u001b[K\n",
            "\u001b[m 1160 root      20   0 39.739g 2.163g 423656 S   1.7 17.0   1:00.61 python3     \u001b[m\u001b[m\u001b[K\n",
            "\u001b[m   79 root      20   0  740808  77580  22852 S   0.3  0.6   0:49.05 node        \u001b[m\u001b[m\u001b[K\n",
            "\u001b[m\u001b[1m 1272 root      20   0   65360   7056   5304 R   0.3  0.1   0:00.01 top         \u001b[m\u001b[m\u001b[K\n",
            "\u001b[m    1 root      20   0   39148   6520   5144 S   0.0  0.0   0:00.09 run.sh      \u001b[m\u001b[m\u001b[K\n",
            "\u001b[m   69 root      20   0  688536  49088  21772 S   0.0  0.4   0:05.43 node        \u001b[m\u001b[m\u001b[K\n",
            "\u001b[m   89 root      20   0  188044  61784  12400 S   0.0  0.5   0:38.28 jupyter-no+ \u001b[m\u001b[m\u001b[K\n",
            "\u001b[m 1113 root      20   0 39.314g 1.398g  76944 S   0.0 11.0   0:00.00 python3     \u001b[m\u001b[m\u001b[K\n",
            "\u001b[m 1114 root      20   0 39.314g 1.398g  76944 S   0.0 11.0   0:00.00 python3     \u001b[m\u001b[m\u001b[K\n",
            "\u001b[m 1115 root      20   0 39.314g 1.398g  76944 S   0.0 11.0   0:00.00 python3     \u001b[m\u001b[m\u001b[K\n",
            "\u001b[m 1116 root      20   0 39.314g 1.398g  76944 S   0.0 11.0   0:00.00 python3     \u001b[m\u001b[m\u001b[K\n",
            "\u001b[m 1117 root      20   0 39.314g 1.398g  76944 S   0.0 11.0   0:00.00 python3     \u001b[m\u001b[m\u001b[K\n",
            "\u001b[m 1118 root      20   0 39.314g 1.398g  76944 S   0.0 11.0   0:00.00 python3     \u001b[m\u001b[m\u001b[K\n",
            "\u001b[m 1119 root      20   0 39.314g 1.398g  76944 S   0.0 11.0   0:00.00 python3     \u001b[m\u001b[m\u001b[K\n",
            "\u001b[m 1120 root      20   0 39.314g 1.398g  76944 S   0.0 11.0   0:00.00 python3     \u001b[m\u001b[m\u001b[K\n",
            "\u001b[m 1121 root      20   0 39.314g 1.398g  76944 S   0.0 11.0   0:00.00 python3     \u001b[m\u001b[m\u001b[K\n",
            "\u001b[m 1122 root      20   0 39.314g 1.398g  76944 S   0.0 11.0   0:00.00 python3     \u001b[m\u001b[m\u001b[K\u001b[H\u001b[mtop - 03:39:57 up  2:10,  0 users,  load average: 0.24, 0.20, 0.73\u001b[m\u001b[m\u001b[m\u001b[m\u001b[K\n",
            "\n",
            "%Cpu(s):\u001b[m\u001b[m\u001b[1m  1.5 \u001b[m\u001b[mus,\u001b[m\u001b[m\u001b[1m  1.5 \u001b[m\u001b[msy,\u001b[m\u001b[m\u001b[1m  0.0 \u001b[m\u001b[mni,\u001b[m\u001b[m\u001b[1m 97.0 \u001b[m\u001b[mid,\u001b[m\u001b[m\u001b[1m  0.0 \u001b[m\u001b[mwa,\u001b[m\u001b[m\u001b[1m  0.0 \u001b[m\u001b[mhi,\u001b[m\u001b[m\u001b[1m  0.0 \u001b[m\u001b[msi,\u001b[m\u001b[m\u001b[1m  0.0 \u001b[m\u001b[mst\u001b[m\u001b[m\u001b[m\u001b[m\u001b[K\n",
            "KiB Mem :\u001b[m\u001b[m\u001b[1m 13341832 \u001b[m\u001b[mtotal,\u001b[m\u001b[m\u001b[1m   218100 \u001b[m\u001b[mfree,\u001b[m\u001b[m\u001b[1m  4869020 \u001b[m\u001b[mused,\u001b[m\u001b[m\u001b[1m  8254712 \u001b[m\u001b[mbuff/cache\u001b[m\u001b[m\u001b[m\u001b[m\u001b[K\n",
            "KiB Swap:\u001b[m\u001b[m\u001b[1m        0 \u001b[m\u001b[mtotal,\u001b[m\u001b[m\u001b[1m        0 \u001b[m\u001b[mfree,\u001b[m\u001b[m\u001b[1m        0 \u001b[m\u001b[mused.\u001b[m\u001b[m\u001b[1m  7558924 \u001b[m\u001b[mavail Mem \u001b[m\u001b[m\u001b[m\u001b[m\u001b[K\n",
            "\u001b[K\n",
            "\n",
            "\u001b[m 1200 root      20   0 38.870g 1.428g 552060 S   4.0 11.2   0:19.03 python3     \u001b[m\u001b[m\u001b[K\n",
            "\u001b[m 1160 root      20   0 39.739g 2.163g 423656 S   1.3 17.0   1:00.65 python3     \u001b[m\u001b[m\u001b[K\n",
            "\u001b[m   89 root      20   0  188044  61784  12400 S   0.3  0.5   0:38.29 jupyter-no+ \u001b[m\u001b[m\u001b[K\n",
            "\u001b[m    1 root      20   0   39148   6520   5144 S   0.0  0.0   0:00.09 run.sh      \u001b[m\u001b[m\u001b[K\n",
            "\u001b[m   69 root      20   0  688536  49088  21772 S   0.0  0.4   0:05.43 node        \u001b[m\u001b[m\u001b[K\n",
            "\u001b[m   79 root      20   0  740808  77844  22852 S   0.0  0.6   0:49.05 node        \u001b[m\u001b[m\u001b[K\n",
            "\u001b[m 1113 root      20   0 39.314g 1.398g  76944 S   0.0 11.0   0:00.00 python3     \u001b[m\u001b[m\u001b[K\n",
            "\u001b[m 1114 root      20   0 39.314g 1.398g  76944 S   0.0 11.0   0:00.00 python3     \u001b[m\u001b[m\u001b[K\n",
            "\u001b[m 1115 root      20   0 39.314g 1.398g  76944 S   0.0 11.0   0:00.00 python3     \u001b[m\u001b[m\u001b[K\n",
            "\u001b[m 1116 root      20   0 39.314g 1.398g  76944 S   0.0 11.0   0:00.00 python3     \u001b[m\u001b[m\u001b[K\n",
            "\u001b[m 1117 root      20   0 39.314g 1.398g  76944 S   0.0 11.0   0:00.00 python3     \u001b[m\u001b[m\u001b[K\n",
            "\u001b[m 1118 root      20   0 39.314g 1.398g  76944 S   0.0 11.0   0:00.00 python3     \u001b[m\u001b[m\u001b[K\n",
            "\u001b[m 1119 root      20   0 39.314g 1.398g  76944 S   0.0 11.0   0:00.00 python3     \u001b[m\u001b[m\u001b[K\n",
            "\u001b[m 1120 root      20   0 39.314g 1.398g  76944 S   0.0 11.0   0:00.00 python3     \u001b[m\u001b[m\u001b[K\n",
            "\u001b[m 1121 root      20   0 39.314g 1.398g  76944 S   0.0 11.0   0:00.00 python3     \u001b[m\u001b[m\u001b[K\n",
            "\u001b[m 1122 root      20   0 39.314g 1.398g  76944 S   0.0 11.0   0:00.00 python3     \u001b[m\u001b[m\u001b[K\n",
            "\u001b[m 1271 root      20   0   33964   4732   3620 S   0.0  0.0   0:01.04 sh          \u001b[m\u001b[m\u001b[K\u001b[H\u001b[mtop - 03:40:00 up  2:10,  0 users,  load average: 0.22, 0.19, 0.73\u001b[m\u001b[m\u001b[m\u001b[m\u001b[K\n",
            "\n",
            "%Cpu(s):\u001b[m\u001b[m\u001b[1m  1.3 \u001b[m\u001b[mus,\u001b[m\u001b[m\u001b[1m  1.5 \u001b[m\u001b[msy,\u001b[m\u001b[m\u001b[1m  0.0 \u001b[m\u001b[mni,\u001b[m\u001b[m\u001b[1m 97.1 \u001b[m\u001b[mid,\u001b[m\u001b[m\u001b[1m  0.0 \u001b[m\u001b[mwa,\u001b[m\u001b[m\u001b[1m  0.0 \u001b[m\u001b[mhi,\u001b[m\u001b[m\u001b[1m  0.0 \u001b[m\u001b[msi,\u001b[m\u001b[m\u001b[1m  0.0 \u001b[m\u001b[mst\u001b[m\u001b[m\u001b[m\u001b[m\u001b[K\n",
            "KiB Mem :\u001b[m\u001b[m\u001b[1m 13341832 \u001b[m\u001b[mtotal,\u001b[m\u001b[m\u001b[1m   217948 \u001b[m\u001b[mfree,\u001b[m\u001b[m\u001b[1m  4869128 \u001b[m\u001b[mused,\u001b[m\u001b[m\u001b[1m  8254756 \u001b[m\u001b[mbuff/cache\u001b[m\u001b[m\u001b[m\u001b[m\u001b[K\n",
            "KiB Swap:\u001b[m\u001b[m\u001b[1m        0 \u001b[m\u001b[mtotal,\u001b[m\u001b[m\u001b[1m        0 \u001b[m\u001b[mfree,\u001b[m\u001b[m\u001b[1m        0 \u001b[m\u001b[mused.\u001b[m\u001b[m\u001b[1m  7558804 \u001b[m\u001b[mavail Mem \u001b[m\u001b[m\u001b[m\u001b[m\u001b[K\n",
            "\u001b[K\n",
            "\n",
            "\u001b[m 1200 root      20   0 38.870g 1.428g 552060 S   3.7 11.2   0:19.14 python3     \u001b[m\u001b[m\u001b[K\n",
            "\u001b[m 1160 root      20   0 39.739g 2.163g 423656 S   1.7 17.0   1:00.70 python3     \u001b[m\u001b[m\u001b[K\n",
            "\u001b[m   79 root      20   0  740808  77564  22852 S   0.7  0.6   0:49.07 node        \u001b[m\u001b[m\u001b[K\n",
            "\u001b[m   69 root      20   0  688536  49088  21772 S   0.3  0.4   0:05.44 node        \u001b[m\u001b[m\u001b[K\n",
            "\u001b[m    1 root      20   0   39148   6520   5144 S   0.0  0.0   0:00.09 run.sh      \u001b[m\u001b[m\u001b[K\n",
            "\u001b[m   89 root      20   0  188044  61784  12400 S   0.0  0.5   0:38.29 jupyter-no+ \u001b[m\u001b[m\u001b[K\n",
            "\n",
            "\n",
            "\n",
            "\n",
            "\n",
            "\n",
            "\n",
            "\n",
            "\n",
            "\n",
            "\u001b[H\u001b[mtop - 03:40:03 up  2:10,  0 users,  load average: 0.22, 0.19, 0.73\u001b[m\u001b[m\u001b[m\u001b[m\u001b[K\n",
            "\n",
            "%Cpu(s):\u001b[m\u001b[m\u001b[1m  1.8 \u001b[m\u001b[mus,\u001b[m\u001b[m\u001b[1m  1.3 \u001b[m\u001b[msy,\u001b[m\u001b[m\u001b[1m  0.0 \u001b[m\u001b[mni,\u001b[m\u001b[m\u001b[1m 96.8 \u001b[m\u001b[mid,\u001b[m\u001b[m\u001b[1m  0.0 \u001b[m\u001b[mwa,\u001b[m\u001b[m\u001b[1m  0.0 \u001b[m\u001b[mhi,\u001b[m\u001b[m\u001b[1m  0.0 \u001b[m\u001b[msi,\u001b[m\u001b[m\u001b[1m  0.0 \u001b[m\u001b[mst\u001b[m\u001b[m\u001b[m\u001b[m\u001b[K\n",
            "KiB Mem :\u001b[m\u001b[m\u001b[1m 13341832 \u001b[m\u001b[mtotal,\u001b[m\u001b[m\u001b[1m   217952 \u001b[m\u001b[mfree,\u001b[m\u001b[m\u001b[1m  4869112 \u001b[m\u001b[mused,\u001b[m\u001b[m\u001b[1m  8254768 \u001b[m\u001b[mbuff/cache\u001b[m\u001b[m\u001b[m\u001b[m\u001b[K\n",
            "KiB Swap:\u001b[m\u001b[m\u001b[1m        0 \u001b[m\u001b[mtotal,\u001b[m\u001b[m\u001b[1m        0 \u001b[m\u001b[mfree,\u001b[m\u001b[m\u001b[1m        0 \u001b[m\u001b[mused.\u001b[m\u001b[m\u001b[1m  7558828 \u001b[m\u001b[mavail Mem \u001b[m\u001b[m\u001b[m\u001b[m\u001b[K\n",
            "\u001b[K\n",
            "\n",
            "\u001b[m 1200 root      20   0 38.870g 1.428g 552060 S   3.7 11.2   0:19.25 python3     \u001b[m\u001b[m\u001b[K\n",
            "\u001b[m 1160 root      20   0 39.739g 2.163g 423656 S   1.7 17.0   1:00.75 python3     \u001b[m\u001b[m\u001b[K\n",
            "\u001b[m   89 root      20   0  188044  61784  12400 S   0.3  0.5   0:38.30 jupyter-no+ \u001b[m\u001b[m\u001b[K\n",
            "\u001b[m    1 root      20   0   39148   6520   5144 S   0.0  0.0   0:00.09 run.sh      \u001b[m\u001b[m\u001b[K\n",
            "\u001b[m   69 root      20   0  688536  49088  21772 S   0.0  0.4   0:05.44 node        \u001b[m\u001b[m\u001b[K\n",
            "\u001b[m   79 root      20   0  740808  78088  22852 S   0.0  0.6   0:49.07 node        \u001b[m\u001b[m\u001b[K\n",
            "\n",
            "\n",
            "\n",
            "\n",
            "\n",
            "\n",
            "\n",
            "\n",
            "\n",
            "\n",
            "\u001b[H\u001b[mtop - 03:40:06 up  2:10,  0 users,  load average: 0.20, 0.19, 0.72\u001b[m\u001b[m\u001b[m\u001b[m\u001b[K\n",
            "\n",
            "%Cpu(s):\u001b[m\u001b[m\u001b[1m  1.7 \u001b[m\u001b[mus,\u001b[m\u001b[m\u001b[1m  1.3 \u001b[m\u001b[msy,\u001b[m\u001b[m\u001b[1m  0.0 \u001b[m\u001b[mni,\u001b[m\u001b[m\u001b[1m 96.8 \u001b[m\u001b[mid,\u001b[m\u001b[m\u001b[1m  0.2 \u001b[m\u001b[mwa,\u001b[m\u001b[m\u001b[1m  0.0 \u001b[m\u001b[mhi,\u001b[m\u001b[m\u001b[1m  0.0 \u001b[m\u001b[msi,\u001b[m\u001b[m\u001b[1m  0.0 \u001b[m\u001b[mst\u001b[m\u001b[m\u001b[m\u001b[m\u001b[K\n",
            "KiB Mem :\u001b[m\u001b[m\u001b[1m 13341832 \u001b[m\u001b[mtotal,\u001b[m\u001b[m\u001b[1m   218172 \u001b[m\u001b[mfree,\u001b[m\u001b[m\u001b[1m  4868856 \u001b[m\u001b[mused,\u001b[m\u001b[m\u001b[1m  8254804 \u001b[m\u001b[mbuff/cache\u001b[m\u001b[m\u001b[m\u001b[m\u001b[K\n",
            "KiB Swap:\u001b[m\u001b[m\u001b[1m        0 \u001b[m\u001b[mtotal,\u001b[m\u001b[m\u001b[1m        0 \u001b[m\u001b[mfree,\u001b[m\u001b[m\u001b[1m        0 \u001b[m\u001b[mused.\u001b[m\u001b[m\u001b[1m  7559080 \u001b[m\u001b[mavail Mem \u001b[m\u001b[m\u001b[m\u001b[m\u001b[K\n",
            "\u001b[K\n",
            "\n",
            "\u001b[m 1200 root      20   0 38.870g 1.428g 552060 S   4.0 11.2   0:19.37 python3     \u001b[m\u001b[m\u001b[K\n",
            "\u001b[m 1160 root      20   0 39.739g 2.163g 423656 S   1.3 17.0   1:00.79 python3     \u001b[m\u001b[m\u001b[K\n",
            "\u001b[m   79 root      20   0  740808  77772  22852 S   0.3  0.6   0:49.08 node        \u001b[m\u001b[m\u001b[K\n",
            "\n",
            "\n",
            "\u001b[m   89 root      20   0  188044  61880  12400 S   0.0  0.5   0:38.30 jupyter-no+ \u001b[m\u001b[m\u001b[K\n",
            "\n",
            "\n",
            "\n",
            "\n",
            "\n",
            "\n",
            "\n",
            "\n",
            "\n",
            "\n",
            "\u001b[H\u001b[mtop - 03:40:09 up  2:11,  0 users,  load average: 0.20, 0.19, 0.72\u001b[m\u001b[m\u001b[m\u001b[m\u001b[K\n",
            "\n",
            "%Cpu(s):\u001b[m\u001b[m\u001b[1m  2.0 \u001b[m\u001b[mus,\u001b[m\u001b[m\u001b[1m  1.3 \u001b[m\u001b[msy,\u001b[m\u001b[m\u001b[1m  0.0 \u001b[m\u001b[mni,\u001b[m\u001b[m\u001b[1m 96.6 \u001b[m\u001b[mid,\u001b[m\u001b[m\u001b[1m  0.0 \u001b[m\u001b[mwa,\u001b[m\u001b[m\u001b[1m  0.0 \u001b[m\u001b[mhi,\u001b[m\u001b[m\u001b[1m  0.0 \u001b[m\u001b[msi,\u001b[m\u001b[m\u001b[1m  0.0 \u001b[m\u001b[mst\u001b[m\u001b[m\u001b[m\u001b[m\u001b[K\n",
            "KiB Mem :\u001b[m\u001b[m\u001b[1m 13341832 \u001b[m\u001b[mtotal,\u001b[m\u001b[m\u001b[1m   217728 \u001b[m\u001b[mfree,\u001b[m\u001b[m\u001b[1m  4869288 \u001b[m\u001b[mused,\u001b[m\u001b[m\u001b[1m  8254816 \u001b[m\u001b[mbuff/cache\u001b[m\u001b[m\u001b[m\u001b[m\u001b[K\n",
            "KiB Swap:\u001b[m\u001b[m\u001b[1m        0 \u001b[m\u001b[mtotal,\u001b[m\u001b[m\u001b[1m        0 \u001b[m\u001b[mfree,\u001b[m\u001b[m\u001b[1m        0 \u001b[m\u001b[mused.\u001b[m\u001b[m\u001b[1m  7558640 \u001b[m\u001b[mavail Mem \u001b[m\u001b[m\u001b[m\u001b[m\u001b[K\n",
            "\u001b[K\n",
            "\n",
            "\u001b[m 1200 root      20   0 38.870g 1.428g 552060 S   4.3 11.2   0:19.50 python3     \u001b[m\u001b[m\u001b[K\n",
            "\u001b[m 1160 root      20   0 39.739g 2.163g 423656 S   1.7 17.0   1:00.84 python3     \u001b[m\u001b[m\u001b[K\n",
            "\u001b[m    1 root      20   0   39148   6520   5144 S   0.0  0.0   0:00.09 run.sh      \u001b[m\u001b[m\u001b[K\n",
            "\u001b[m   69 root      20   0  688536  49088  21772 S   0.0  0.4   0:05.44 node        \u001b[m\u001b[m\u001b[K\n",
            "\u001b[m   79 root      20   0  740808  78036  22852 S   0.0  0.6   0:49.08 node        \u001b[m\u001b[m\u001b[K\n",
            "\n",
            "\n",
            "\n",
            "\n",
            "\n",
            "\n",
            "\n",
            "\n",
            "\n",
            "\n",
            "\n"
          ],
          "name": "stdout"
        },
        {
          "output_type": "stream",
          "text": [
            "\u001b[H\u001b[mtop - 03:40:12 up  2:11,  0 users,  load average: 0.18, 0.19, 0.72\u001b[m\u001b[m\u001b[m\u001b[m\u001b[K\r\n",
            "\r\n",
            "%Cpu(s):\u001b[m\u001b[m\u001b[1m  1.5 \u001b[m\u001b[mus,\u001b[m\u001b[m\u001b[1m  1.3 \u001b[m\u001b[msy,\u001b[m\u001b[m\u001b[1m  0.0 \u001b[m\u001b[mni,\u001b[m\u001b[m\u001b[1m 97.0 \u001b[m\u001b[mid,\u001b[m\u001b[m\u001b[1m  0.2 \u001b[m\u001b[mwa,\u001b[m\u001b[m\u001b[1m  0.0 \u001b[m\u001b[mhi,\u001b[m\u001b[m\u001b[1m  0.0 \u001b[m\u001b[msi,\u001b[m\u001b[m\u001b[1m  0.0 \u001b[m\u001b[mst\u001b[m\u001b[m\u001b[m\u001b[m\u001b[K\r\n",
            "KiB Mem :\u001b[m\u001b[m\u001b[1m 13341832 \u001b[m\u001b[mtotal,\u001b[m\u001b[m\u001b[1m   217516 \u001b[m\u001b[mfree,\u001b[m\u001b[m\u001b[1m  4869332 \u001b[m\u001b[mused,\u001b[m\u001b[m\u001b[1m  8254984 \u001b[m\u001b[mbuff/cache\u001b[m\u001b[m\u001b[m\u001b[m\u001b[K\r\n",
            "KiB Swap:\u001b[m\u001b[m\u001b[1m        0 \u001b[m\u001b[mtotal,\u001b[m\u001b[m\u001b[1m        0 \u001b[m\u001b[mfree,\u001b[m\u001b[m\u001b[1m        0 \u001b[m\u001b[mused.\u001b[m\u001b[m\u001b[1m  7558604 \u001b[m\u001b[mavail Mem \u001b[m\u001b[m\u001b[m\u001b[m\u001b[K\r\n",
            "\u001b[K\r\n",
            "\r\n",
            "\u001b[m 1200 root      20   0 38.870g 1.428g 552060 S   3.7 11.2   0:19.61 python3     \u001b[m\u001b[m\u001b[K\r\n",
            "\u001b[m 1160 root      20   0 39.739g 2.163g 423656 S   1.3 17.0   1:00.88 python3     \u001b[m\u001b[m\u001b[K\r\n",
            "\u001b[m   69 root      20   0  688536  49088  21772 S   0.3  0.4   0:05.45 node        \u001b[m\u001b[m\u001b[K\r\n",
            "\u001b[m   79 root      20   0  740808  78300  22852 S   0.3  0.6   0:49.09 node        \u001b[m\u001b[m\u001b[K\r\n",
            "\u001b[m   89 root      20   0  188044  61880  12400 S   0.3  0.5   0:38.31 jupyter-no+ \u001b[m\u001b[m\u001b[K\r\n",
            "\u001b[m    1 root      20   0   39148   6520   5144 S   0.0  0.0   0:00.09 run.sh      \u001b[m\u001b[m\u001b[K\r\n",
            "\r\n",
            "\r\n",
            "\r\n",
            "\r\n",
            "\r\n",
            "\r\n",
            "\r\n",
            "\r\n",
            "\r\n",
            "\n",
            "\u001b[H\u001b[mtop - 03:40:15 up  2:11,  0 users,  load average: 0.17, 0.18, 0.72\u001b[m\u001b[m\u001b[m\u001b[m\u001b[K\n",
            "\n",
            "%Cpu(s):\u001b[m\u001b[m\u001b[1m  1.5 \u001b[m\u001b[mus,\u001b[m\u001b[m\u001b[1m  1.5 \u001b[m\u001b[msy,\u001b[m\u001b[m\u001b[1m  0.0 \u001b[m\u001b[mni,\u001b[m\u001b[m\u001b[1m 96.8 \u001b[m\u001b[mid,\u001b[m\u001b[m\u001b[1m  0.0 \u001b[m\u001b[mwa,\u001b[m\u001b[m\u001b[1m  0.0 \u001b[m\u001b[mhi,\u001b[m\u001b[m\u001b[1m  0.2 \u001b[m\u001b[msi,\u001b[m\u001b[m\u001b[1m  0.0 \u001b[m\u001b[mst\u001b[m\u001b[m\u001b[m\u001b[m\u001b[K\n",
            "KiB Mem :\u001b[m\u001b[m\u001b[1m 13341832 \u001b[m\u001b[mtotal,\u001b[m\u001b[m\u001b[1m   217736 \u001b[m\u001b[mfree,\u001b[m\u001b[m\u001b[1m  4869092 \u001b[m\u001b[mused,\u001b[m\u001b[m\u001b[1m  8255004 \u001b[m\u001b[mbuff/cache\u001b[m\u001b[m\u001b[m\u001b[m\u001b[K\n",
            "KiB Swap:\u001b[m\u001b[m\u001b[1m        0 \u001b[m\u001b[mtotal,\u001b[m\u001b[m\u001b[1m        0 \u001b[m\u001b[mfree,\u001b[m\u001b[m\u001b[1m        0 \u001b[m\u001b[mused.\u001b[m\u001b[m\u001b[1m  7558844 \u001b[m\u001b[mavail Mem \u001b[m\u001b[m\u001b[m\u001b[m\u001b[K\n",
            "\u001b[K\n",
            "\n",
            "\u001b[m 1200 root      20   0 38.870g 1.428g 552060 S   3.7 11.2   0:19.72 python3     \u001b[m\u001b[m\u001b[K\n",
            "\u001b[m 1160 root      20   0 39.739g 2.163g 423656 S   2.0 17.0   1:00.94 python3     \u001b[m\u001b[m\u001b[K\n",
            "\u001b[m   79 root      20   0  740808  77920  22852 S   0.3  0.6   0:49.10 node        \u001b[m\u001b[m\u001b[K\n",
            "\u001b[m   89 root      20   0  188044  61880  12400 S   0.3  0.5   0:38.32 jupyter-no+ \u001b[m\u001b[m\u001b[K\n",
            "\u001b[m    1 root      20   0   39148   6520   5144 S   0.0  0.0   0:00.09 run.sh      \u001b[m\u001b[m\u001b[K\n",
            "\u001b[m   69 root      20   0  688536  49088  21772 S   0.0  0.4   0:05.45 node        \u001b[m\u001b[m\u001b[K\n",
            "\n",
            "\n",
            "\n",
            "\n",
            "\n",
            "\n",
            "\n",
            "\n",
            "\n",
            "\n",
            "\u001b[H\u001b[mtop - 03:40:18 up  2:11,  0 users,  load average: 0.17, 0.18, 0.72\u001b[m\u001b[m\u001b[m\u001b[m\u001b[K\n",
            "\n",
            "%Cpu(s):\u001b[m\u001b[m\u001b[1m  1.3 \u001b[m\u001b[mus,\u001b[m\u001b[m\u001b[1m  1.3 \u001b[m\u001b[msy,\u001b[m\u001b[m\u001b[1m  0.0 \u001b[m\u001b[mni,\u001b[m\u001b[m\u001b[1m 97.3 \u001b[m\u001b[mid,\u001b[m\u001b[m\u001b[1m  0.0 \u001b[m\u001b[mwa,\u001b[m\u001b[m\u001b[1m  0.0 \u001b[m\u001b[mhi,\u001b[m\u001b[m\u001b[1m  0.0 \u001b[m\u001b[msi,\u001b[m\u001b[m\u001b[1m  0.0 \u001b[m\u001b[mst\u001b[m\u001b[m\u001b[m\u001b[m\u001b[K\n",
            "KiB Mem :\u001b[m\u001b[m\u001b[1m 13341832 \u001b[m\u001b[mtotal,\u001b[m\u001b[m\u001b[1m   217428 \u001b[m\u001b[mfree,\u001b[m\u001b[m\u001b[1m  4869344 \u001b[m\u001b[mused,\u001b[m\u001b[m\u001b[1m  8255060 \u001b[m\u001b[mbuff/cache\u001b[m\u001b[m\u001b[m\u001b[m\u001b[K\n",
            "KiB Swap:\u001b[m\u001b[m\u001b[1m        0 \u001b[m\u001b[mtotal,\u001b[m\u001b[m\u001b[1m        0 \u001b[m\u001b[mfree,\u001b[m\u001b[m\u001b[1m        0 \u001b[m\u001b[mused.\u001b[m\u001b[m\u001b[1m  7558588 \u001b[m\u001b[mavail Mem \u001b[m\u001b[m\u001b[m\u001b[m\u001b[K\n",
            "\u001b[K\n",
            "\n",
            "\u001b[m 1200 root      20   0 38.870g 1.428g 552060 S   4.0 11.2   0:19.84 python3     \u001b[m\u001b[m\u001b[K\n",
            "\u001b[m 1160 root      20   0 39.739g 2.163g 423656 S   1.7 17.0   1:00.99 python3     \u001b[m\u001b[m\u001b[K\n",
            "\u001b[m   79 root      20   0  740808  78184  22852 S   0.3  0.6   0:49.11 node        \u001b[m\u001b[m\u001b[K\n",
            "\u001b[m    1 root      20   0   39148   6520   5144 S   0.0  0.0   0:00.09 run.sh      \u001b[m\u001b[m\u001b[K\n",
            "\u001b[m   69 root      20   0  688536  49088  21772 S   0.0  0.4   0:05.45 node        \u001b[m\u001b[m\u001b[K\n",
            "\u001b[m   89 root      20   0  188044  61880  12400 S   0.0  0.5   0:38.32 jupyter-no+ \u001b[m\u001b[m\u001b[K\n",
            "\n",
            "\n",
            "\n",
            "\n",
            "\n",
            "\n",
            "\n",
            "\n",
            "\n",
            "\n",
            "\u001b[H\u001b[mtop - 03:40:21 up  2:11,  0 users,  load average: 0.15, 0.18, 0.71\u001b[m\u001b[m\u001b[m\u001b[m\u001b[K\n",
            "\n",
            "%Cpu(s):\u001b[m\u001b[m\u001b[1m  1.8 \u001b[m\u001b[mus,\u001b[m\u001b[m\u001b[1m  1.2 \u001b[m\u001b[msy,\u001b[m\u001b[m\u001b[1m  0.0 \u001b[m\u001b[mni,\u001b[m\u001b[m\u001b[1m 97.0 \u001b[m\u001b[mid,\u001b[m\u001b[m\u001b[1m  0.0 \u001b[m\u001b[mwa,\u001b[m\u001b[m\u001b[1m  0.0 \u001b[m\u001b[mhi,\u001b[m\u001b[m\u001b[1m  0.0 \u001b[m\u001b[msi,\u001b[m\u001b[m\u001b[1m  0.0 \u001b[m\u001b[mst\u001b[m\u001b[m\u001b[m\u001b[m\u001b[K\n",
            "KiB Mem :\u001b[m\u001b[m\u001b[1m 13341832 \u001b[m\u001b[mtotal,\u001b[m\u001b[m\u001b[1m   217708 \u001b[m\u001b[mfree,\u001b[m\u001b[m\u001b[1m  4869060 \u001b[m\u001b[mused,\u001b[m\u001b[m\u001b[1m  8255064 \u001b[m\u001b[mbuff/cache\u001b[m\u001b[m\u001b[m\u001b[m\u001b[K\n",
            "KiB Swap:\u001b[m\u001b[m\u001b[1m        0 \u001b[m\u001b[mtotal,\u001b[m\u001b[m\u001b[1m        0 \u001b[m\u001b[mfree,\u001b[m\u001b[m\u001b[1m        0 \u001b[m\u001b[mused.\u001b[m\u001b[m\u001b[1m  7558884 \u001b[m\u001b[mavail Mem \u001b[m\u001b[m\u001b[m\u001b[m\u001b[K\n",
            "\u001b[K\n",
            "\n",
            "\u001b[m 1200 root      20   0 38.870g 1.428g 552060 S   4.0 11.2   0:19.96 python3     \u001b[m\u001b[m\u001b[K\n",
            "\u001b[m 1160 root      20   0 39.739g 2.163g 423656 S   1.3 17.0   1:01.03 python3     \u001b[m\u001b[m\u001b[K\n",
            "\u001b[m   79 root      20   0  740808  77852  22852 S   0.7  0.6   0:49.13 node        \u001b[m\u001b[m\u001b[K\n",
            "\n",
            "\n",
            "\n",
            "\n",
            "\n",
            "\n",
            "\n",
            "\n",
            "\n",
            "\n",
            "\n",
            "\n",
            "\n",
            "\u001b[?1l\u001b>\u001b[25;1H\n",
            "\u001b[K"
          ],
          "name": "stdout"
        }
      ]
    },
    {
      "metadata": {
        "id": "rXFADSuyzX9O",
        "colab_type": "code",
        "colab": {}
      },
      "cell_type": "code",
      "source": [
        "!kill -9 1200"
      ],
      "execution_count": 0,
      "outputs": []
    },
    {
      "metadata": {
        "id": "L1U_nmLXzc7i",
        "colab_type": "code",
        "colab": {}
      },
      "cell_type": "code",
      "source": [
        "%matplotlib inline\n",
        "import matplotlib.pyplot as plt"
      ],
      "execution_count": 0,
      "outputs": []
    },
    {
      "metadata": {
        "id": "txuFgtCfj_Jg",
        "colab_type": "code",
        "colab": {
          "base_uri": "https://localhost:8080/",
          "height": 286
        },
        "outputId": "fac86d1f-9842-451c-a1fc-f82de79fc6fb"
      },
      "cell_type": "code",
      "source": [
        "I = plt.imread('/content/img/MEN/Denim/id_00000089/08_6_flat.jpg')\n",
        "plt.imshow(I)"
      ],
      "execution_count": 22,
      "outputs": [
        {
          "output_type": "execute_result",
          "data": {
            "text/plain": [
              "<matplotlib.image.AxesImage at 0x7f87bb928828>"
            ]
          },
          "metadata": {
            "tags": []
          },
          "execution_count": 22
        },
        {
          "output_type": "display_data",
          "data": {
            "image/png": "[encoded data removed]",
            "text/plain": [
              "<matplotlib.figure.Figure at 0x7f8803486668>"
            ]
          },
          "metadata": {
            "tags": []
          }
        }
      ]
    },
    {
      "metadata": {
        "id": "UeguKTdekD7Q",
        "colab_type": "code",
        "colab": {}
      },
      "cell_type": "code",
      "source": [
        ""
      ],
      "execution_count": 0,
      "outputs": []
    }
  ]
}